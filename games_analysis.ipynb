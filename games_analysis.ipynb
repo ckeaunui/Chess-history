{
 "cells": [
  {
   "cell_type": "markdown",
   "metadata": {},
   "source": [
    "Summary of my chess games\n"
   ]
  },
  {
   "cell_type": "code",
   "execution_count": null,
   "metadata": {},
   "outputs": [],
   "source": [
    "!pip install opendatasets\n",
    "!pip install pandas\n",
    "!pip install chess.com"
   ]
  },
  {
   "cell_type": "code",
   "execution_count": 214,
   "metadata": {},
   "outputs": [],
   "source": [
    "# from chessdotcom import get_player_profile\n",
    "import pandas as pd\n",
    "import matplotlib.pyplot as plt\n",
    "import numpy as np\n",
    "import requests\n",
    "from datetime import datetime\n",
    "import json\n",
    "from tqdm import tqdm\n",
    "\n",
    "pd.set_option('display.max_columns', None)"
   ]
  },
  {
   "cell_type": "code",
   "execution_count": 207,
   "metadata": {},
   "outputs": [
    {
     "name": "stdout",
     "output_type": "stream",
     "text": [
      "Account creation date:  2021-02-28 04:46:42\n"
     ]
    }
   ],
   "source": [
    "# Account Data\n",
    "username = 'Spicy_Chris'  # Case sensitive\n",
    "\n",
    "# API request\n",
    "profile_url = f\"https://api.chess.com/pub/player/{username}\"\n",
    "headers = {'User-Agent': 'Mozilla/5.0 (Macintosh; Intel Mac OS X 10_11_5) AppleWebKit/537.36 (KHTML, like Gecko) Chrome/50.0.2661.102 Safari/537.36'}\n",
    "response = requests.get(profile_url, headers=headers).json()\n",
    "\n",
    "\n",
    "# Account creation date\n",
    "join_date_utx = response['joined']\n",
    "join_date = datetime.fromtimestamp(join_date_utx)\n",
    "print(\"Account creation date: \", join_date)\n"
   ]
  },
  {
   "cell_type": "code",
   "execution_count": 208,
   "metadata": {},
   "outputs": [
    {
     "name": "stderr",
     "output_type": "stream",
     "text": [
      "100%|██████████| 34/34 [00:09<00:00,  2.49it/s]"
     ]
    },
    {
     "name": "stdout",
     "output_type": "stream",
     "text": [
      "Found 6323 Games\n"
     ]
    },
    {
     "name": "stderr",
     "output_type": "stream",
     "text": [
      "\n"
     ]
    }
   ],
   "source": [
    "# Get all games since creation date and save to pd dataframe\n",
    "all_games = []\n",
    "todays_date = datetime.now()\n",
    "monthly_data_urls = requests.get(f\"https://api.chess.com/pub/player/{username}/games/archives\", headers=headers).json()['archives']\n",
    "for url in tqdm(monthly_data_urls, position=0, leave=True):\n",
    "    games = requests.get(url, headers=headers).json()['games']        \n",
    "    all_games += games\n",
    "\n",
    "print(f\"Found {len(all_games)} Games\")\n",
    "df = pd.DataFrame.from_dict(all_games, orient='columns')\n"
   ]
  },
  {
   "cell_type": "code",
   "execution_count": 209,
   "metadata": {},
   "outputs": [],
   "source": [
    "# Add new columns to store each games data on one row\n",
    "\n",
    "df.insert(len(df.columns), 'w_accuracy', None)\n",
    "df.insert(len(df.columns), 'w_rating', None)\n",
    "df.insert(len(df.columns), 'w_result', None)\n",
    "df.insert(len(df.columns), 'w_id', None)\n",
    "df.insert(len(df.columns), 'w_username', None)\n",
    "df.insert(len(df.columns), 'w_uuid', None)\n",
    "\n",
    "df.insert(len(df.columns), 'b_accuracy', None)\n",
    "df.insert(len(df.columns), 'b_rating', None)\n",
    "df.insert(len(df.columns), 'b_result', None)\n",
    "df.insert(len(df.columns), 'b_id', None)\n",
    "df.insert(len(df.columns), 'b_username', None)\n",
    "df.insert(len(df.columns), 'b_uuid', None)"
   ]
  },
  {
   "cell_type": "code",
   "execution_count": null,
   "metadata": {},
   "outputs": [],
   "source": [
    "# Data cleaning\n",
    "for index, row in tqdm(df.iterrows(), position=0, leave=True):\n",
    "    # Put all data on one row\n",
    "    \n",
    "    w_accuracy = None\n",
    "    b_accuracy = None\n",
    "    \n",
    "    # If the game was analyzed...\n",
    "    if type(row['accuracies']) != float:\n",
    "        w_accuracy = row['accuracies']['white']\n",
    "        b_accuracy = row['accuracies']['black']\n",
    "        \n",
    "    df.at[index, 'w_accuracy'] = w_accuracy\n",
    "    df.at[index, 'w_rating'] = row['white']['rating']\n",
    "    df.at[index, 'w_result'] = row['white']['result']\n",
    "    df.at[index, 'w_id'] = row['white']['@id']\n",
    "    df.at[index, 'w_username'] = row['white']['username']\n",
    "    df.at[index, 'w_uuid'] = row['white']['uuid']\n",
    "\n",
    "    df.at[index, 'b_accuracy'] = b_accuracy\n",
    "    df.at[index, 'b_rating'] = row['black']['rating']\n",
    "    df.at[index, 'b_result'] = row['black']['result']\n",
    "    df.at[index, 'b_id'] = row['black']['@id']\n",
    "    df.at[index, 'b_username'] = row['black']['username']\n",
    "    df.at[index, 'b_uuid'] = row['black']['uuid']\n",
    "\n",
    "# Remove redundant columns\n",
    "df = df.drop(columns=['accuracies', 'black', 'white'], axis=1)\n",
    "# Order by date\n",
    "df.sort_values('end_time')\n"
   ]
  },
  {
   "cell_type": "code",
   "execution_count": null,
   "metadata": {},
   "outputs": [],
   "source": [
    "df.head(1)"
   ]
  },
  {
   "cell_type": "code",
   "execution_count": 232,
   "metadata": {},
   "outputs": [],
   "source": [
    "stats_url = f\"https://api.chess.com/pub/player/{username}/stats\"\n",
    "player_stats = requests.get(stats_url, headers=headers).json()\n",
    "\n",
    "# Fide ranking\n",
    "if player_stats['fide'] == 0:\n",
    "    print('Fide elo: N/A')\n",
    "else:\n",
    "    print('Fide elo: ' + str(player_stats['fide']))\n",
    "\n"
   ]
  },
  {
   "cell_type": "code",
   "execution_count": 293,
   "metadata": {},
   "outputs": [
    {
     "name": "stdout",
     "output_type": "stream",
     "text": [
      "Current bullet elo: 976 –– 2023-11-09 18:22:07\n",
      "Highest bullet elo: 1313 –– 2022-01-11 03:03:38\n",
      "Record: 61W / 4D / 72L\n"
     ]
    },
    {
     "data": {
      "image/png": "[encoded data removed]",
      "text/plain": [
       "<Figure size 432x288 with 1 Axes>"
      ]
     },
     "metadata": {
      "needs_background": "light"
     },
     "output_type": "display_data"
    }
   ],
   "source": [
    "\"\"\"\n",
    "# How has my rating changed over time\n",
    "\n",
    "time_control = '600'\n",
    "games = df.query(\"time_control == '{time_control}'\")\n",
    "print(len(games))\n",
    "print(games['time_control'].unique())\n",
    "\"\"\"\n",
    "\n",
    "\n",
    "# Bullet stats\n",
    "last_bullet_game = datetime.fromtimestamp(player_stats['chess_bullet']['last']['date'])\n",
    "best_bullet_ranking = datetime.fromtimestamp(player_stats['chess_bullet']['best']['date'])\n",
    "\n",
    "print(f\"Current bullet elo: {player_stats['chess_bullet']['last']['rating']} –– {last_bullet_game}\")\n",
    "print(f\"Highest bullet elo: {player_stats['chess_bullet']['best']['rating']} –– {best_bullet_ranking}\")\n",
    "print(f\"Record: {player_stats['chess_bullet']['record']['win']}W / {player_stats['chess_bullet']['record']['draw']}D / {player_stats['chess_bullet']['record']['loss']}L\")\n",
    "\n",
    "bullet_games = df.query(\"time_class == 'bullet'\")\n",
    "bullet_games.head()\n",
    "bullet_games.sort_values('end_time')\n",
    "\n",
    "ratings = []\n",
    "dates = []\n",
    "\n",
    "for idx, game in bullet_games.iterrows():\n",
    "    rating = game['w_rating'] if game['w_username'] == username else game['b_rating']\n",
    "    date = game['end_time']\n",
    "    ratings.append(rating)\n",
    "    dates.append(date)\n",
    "\n",
    "plt.plot(dates, ratings)\n",
    "plt.show()"
   ]
  },
  {
   "cell_type": "code",
   "execution_count": 297,
   "metadata": {},
   "outputs": [
    {
     "name": "stdout",
     "output_type": "stream",
     "text": [
      "Current bullet elo: 1005 –– 2023-09-05 17:22:58\n",
      "Highest bullet elo: 1111 –– 2023-03-10 01:20:25\n",
      "Record: 479W / 30D / 439L\n"
     ]
    },
    {
     "data": {
      "image/png": "[encoded data removed]",
      "text/plain": [
       "<Figure size 432x288 with 1 Axes>"
      ]
     },
     "metadata": {
      "needs_background": "light"
     },
     "output_type": "display_data"
    }
   ],
   "source": [
    "# Blitz stats\n",
    "last_blitz_game = datetime.fromtimestamp(player_stats['chess_blitz']['last']['date'])\n",
    "best_blitz_ranking = datetime.fromtimestamp(player_stats['chess_blitz']['best']['date'])\n",
    "\n",
    "print(f\"Current bullet elo: {player_stats['chess_blitz']['last']['rating']} –– {last_blitz_game}\")\n",
    "print(f\"Highest bullet elo: {player_stats['chess_blitz']['best']['rating']} –– {best_blitz_ranking}\")\n",
    "print(f\"Record: {player_stats['chess_blitz']['record']['win']}W / {player_stats['chess_blitz']['record']['draw']}D / {player_stats['chess_blitz']['record']['loss']}L\")\n",
    "\n",
    "blitz_games = df.query(\"time_class == 'blitz'\")\n",
    "blitz_games.head()\n",
    "blitz_games.sort_values('end_time')\n",
    "\n",
    "ratings = []\n",
    "dates = []\n",
    "\n",
    "for idx, game in blitz_games.iterrows():\n",
    "    rating = game['w_rating'] if game['w_username'] == username else game['b_rating']\n",
    "    date = game['end_time']\n",
    "    ratings.append(rating)\n",
    "    dates.append(date)\n",
    "\n",
    "plt.plot(dates, ratings)\n",
    "plt.show()"
   ]
  },
  {
   "cell_type": "code",
   "execution_count": 296,
   "metadata": {},
   "outputs": [
    {
     "name": "stdout",
     "output_type": "stream",
     "text": [
      "Current rapid elo: 1561 –– 2023-12-06 23:30:05\n",
      "Highest rapid elo: 1642 –– 2023-11-30 07:06:17\n",
      "Record: 2493W / 215D / 2365L\n"
     ]
    },
    {
     "data": {
      "image/png": "[encoded data removed]",
      "text/plain": [
       "<Figure size 432x288 with 1 Axes>"
      ]
     },
     "metadata": {
      "needs_background": "light"
     },
     "output_type": "display_data"
    }
   ],
   "source": [
    "# Rapid stats\n",
    "last_rapid_game = datetime.fromtimestamp(player_stats['chess_rapid']['last']['date'])\n",
    "best_rapid_ranking = datetime.fromtimestamp(player_stats['chess_rapid']['best']['date'])\n",
    "\n",
    "print(f\"Current rapid elo: {player_stats['chess_rapid']['last']['rating']} –– {last_rapid_game}\")\n",
    "print(f\"Highest rapid elo: {player_stats['chess_rapid']['best']['rating']} –– {best_rapid_ranking}\")\n",
    "print(f\"Record: {player_stats['chess_rapid']['record']['win']}W / {player_stats['chess_rapid']['record']['draw']}D / {player_stats['chess_rapid']['record']['loss']}L\")\n",
    "\n",
    "rapid_games = df.query(\"time_class == 'rapid'\")\n",
    "rapid_games.head()\n",
    "rapid_games.sort_values('end_time')\n",
    "\n",
    "ratings = []\n",
    "dates = []\n",
    "\n",
    "for idx, game in rapid_games.iterrows():\n",
    "    rating = game['w_rating'] if game['w_username'] == username else game['b_rating']\n",
    "    date = game['end_time']\n",
    "    ratings.append(rating)\n",
    "    dates.append(date)\n",
    "\n",
    "plt.plot(dates, ratings)\n",
    "plt.show()\n",
    "\n",
    "# Chess daily rankings\n",
    "# Chess puzzle rankings\n",
    "# Chess puzzle rush rankings"
   ]
  },
  {
   "cell_type": "code",
   "execution_count": 299,
   "metadata": {},
   "outputs": [
    {
     "name": "stdout",
     "output_type": "stream",
     "text": [
      "Current daily elo: 1129 –– 2023-12-03 19:33:10\n",
      "Highest daily elo: 1129 –– 2023-11-16 21:29:44\n",
      "Record: 1W / 0D / 0L\n",
      "[1700198984] [1129]\n"
     ]
    },
    {
     "data": {
      "image/png": "[encoded data removed]",
      "text/plain": [
       "<Figure size 432x288 with 1 Axes>"
      ]
     },
     "metadata": {
      "needs_background": "light"
     },
     "output_type": "display_data"
    }
   ],
   "source": [
    "# Daily stats\n",
    "last_daily_game = datetime.fromtimestamp(player_stats['chess_daily']['last']['date'])\n",
    "best_daily_ranking = datetime.fromtimestamp(player_stats['chess_daily']['best']['date'])\n",
    "\n",
    "print(f\"Current daily elo: {player_stats['chess_daily']['last']['rating']} –– {last_daily_game}\")\n",
    "print(f\"Highest daily elo: {player_stats['chess_daily']['best']['rating']} –– {best_daily_ranking}\")\n",
    "print(f\"Record: {player_stats['chess_daily']['record']['win']}W / {player_stats['chess_daily']['record']['draw']}D / {player_stats['chess_daily']['record']['loss']}L\")\n",
    "\n",
    "daily_games = df.query(\"time_class == 'daily'\")\n",
    "daily_games.head()\n",
    "daily_games.sort_values('end_time')\n",
    "\n",
    "ratings = []\n",
    "dates = []\n",
    "\n",
    "for idx, game in daily_games.iterrows():\n",
    "    rating = game['w_rating'] if game['w_username'] == username else game['b_rating']\n",
    "    date = game['end_time']\n",
    "    ratings.append(rating)\n",
    "    dates.append(date)\n",
    "\n",
    "    print(dates, ratings)\n",
    "\n",
    "plt.plot(dates, ratings)\n",
    "plt.show()"
   ]
  },
  {
   "cell_type": "code",
   "execution_count": null,
   "metadata": {},
   "outputs": [],
   "source": [
    "# Chess puzzle rankings\n",
    "# Chess puzzle rush rankings\n"
   ]
  },
  {
   "cell_type": "code",
   "execution_count": 267,
   "metadata": {},
   "outputs": [
    {
     "data": {
      "image/png": "[encoded data removed]",
      "text/plain": [
       "<Figure size 432x288 with 1 Axes>"
      ]
     },
     "metadata": {
      "needs_background": "light"
     },
     "output_type": "display_data"
    }
   ],
   "source": [
    "# How many games do I have for each time limit?\n",
    "\n",
    "x = []\n",
    "labels = []\n",
    "for time_class in df['time_class'].unique():\n",
    "    query_result = df.query(f\"time_class == '{time_class}'\")\n",
    "    x.append(len(query_result))\n",
    "    labels.append(time_class)\n",
    "\n",
    "plt.bar(labels, x)\n",
    "plt.xlabel('Time Class')\n",
    "plt.ylabel('# of Games')\n",
    "plt.title('All Games')\n",
    "plt.show()\n"
   ]
  },
  {
   "cell_type": "code",
   "execution_count": 189,
   "metadata": {},
   "outputs": [
    {
     "name": "stdout",
     "output_type": "stream",
     "text": [
      "<class 'str'>\n"
     ]
    }
   ],
   "source": []
  },
  {
   "cell_type": "code",
   "execution_count": null,
   "metadata": {},
   "outputs": [],
   "source": [
    "# Show my 30 most played openings, and sort them as stacked bars for wins losses and draws \n",
    "# Show my worst openings and how many times i have played it"
   ]
  },
  {
   "cell_type": "code",
   "execution_count": null,
   "metadata": {},
   "outputs": [],
   "source": []
  },
  {
   "cell_type": "code",
   "execution_count": null,
   "metadata": {},
   "outputs": [],
   "source": []
  },
  {
   "cell_type": "code",
   "execution_count": null,
   "metadata": {},
   "outputs": [],
   "source": [
    "# Track the number of puzzles done each day, and check correlation to games won.  I want to know if doing puzzles increases the changes of me winning games that day\n"
   ]
  },
  {
   "cell_type": "code",
   "execution_count": null,
   "metadata": {},
   "outputs": [],
   "source": []
  }
 ],
 "metadata": {
  "kernelspec": {
   "display_name": "Python 3",
   "language": "python",
   "name": "python3"
  },
  "language_info": {
   "codemirror_mode": {
    "name": "ipython",
    "version": 3
   },
   "file_extension": ".py",
   "mimetype": "text/x-python",
   "name": "python",
   "nbconvert_exporter": "python",
   "pygments_lexer": "ipython3",
   "version": "3.7.2"
  }
 },
 "nbformat": 4,
 "nbformat_minor": 4
}
