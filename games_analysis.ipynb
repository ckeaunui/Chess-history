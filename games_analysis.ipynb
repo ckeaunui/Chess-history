{
 "cells": [
  {
   "cell_type": "markdown",
   "metadata": {},
   "source": [
    "# Chess.com Data Analysis"
   ]
  },
  {
   "cell_type": "markdown",
   "metadata": {},
   "source": [
    "## Install Packages"
   ]
  },
  {
   "cell_type": "code",
   "execution_count": null,
   "metadata": {},
   "outputs": [],
   "source": [
    "!pip install pandas\n",
    "# !pip install chess.com"
   ]
  },
  {
   "cell_type": "code",
   "execution_count": 2,
   "metadata": {},
   "outputs": [],
   "source": [
    "# from chessdotcom import get_player_profile\n",
    "import pandas as pd\n",
    "import matplotlib.pyplot as plt\n",
    "import numpy as np\n",
    "import requests\n",
    "from datetime import datetime\n",
    "import json\n",
    "from tqdm import tqdm"
   ]
  },
  {
   "cell_type": "markdown",
   "metadata": {},
   "source": [
    "## Data Pre Processing"
   ]
  },
  {
   "cell_type": "code",
   "execution_count": 3,
   "metadata": {},
   "outputs": [],
   "source": [
    "username = 'Spicy_Chris'\n",
    "headers = {'User-Agent': 'Mozilla/5.0 (Macintosh; Intel Mac OS X 10_11_5) AppleWebKit/537.36 (KHTML, like Gecko) Chrome/50.0.2661.102 Safari/537.36'}\n",
    "pd.set_option('display.max_columns', None)"
   ]
  },
  {
   "cell_type": "markdown",
   "metadata": {},
   "source": [
    "### Gather Data"
   ]
  },
  {
   "cell_type": "code",
   "execution_count": 4,
   "metadata": {},
   "outputs": [],
   "source": [
    "stats_url = f\"https://api.chess.com/pub/player/{username}/stats\"\n",
    "player_stats = requests.get(stats_url, headers=headers).json()"
   ]
  },
  {
   "cell_type": "code",
   "execution_count": 5,
   "metadata": {},
   "outputs": [
    {
     "name": "stderr",
     "output_type": "stream",
     "text": [
      "100%|████████████████████████████████████████████████████████████████████████████████████████████████████████████████| 34/34 [00:31<00:00,  1.08it/s]"
     ]
    },
    {
     "name": "stdout",
     "output_type": "stream",
     "text": [
      "Found 6340 Games\n"
     ]
    },
    {
     "name": "stderr",
     "output_type": "stream",
     "text": [
      "\n"
     ]
    }
   ],
   "source": [
    "# Get all games since creation date and save to pd dataframe\n",
    "all_games = []\n",
    "todays_date = datetime.now()\n",
    "monthly_data_urls = requests.get(f\"https://api.chess.com/pub/player/{username}/games/archives\", headers=headers).json()['archives']\n",
    "for url in tqdm(monthly_data_urls, position=0, leave=True):\n",
    "    games = requests.get(url, headers=headers).json()['games']        \n",
    "    all_games += games\n",
    "print(f\"Found {len(all_games)} Games\")"
   ]
  },
  {
   "cell_type": "code",
   "execution_count": 6,
   "metadata": {},
   "outputs": [
    {
     "data": {
      "text/html": [
       "<div>\n",
       "<style scoped>\n",
       "    .dataframe tbody tr th:only-of-type {\n",
       "        vertical-align: middle;\n",
       "    }\n",
       "\n",
       "    .dataframe tbody tr th {\n",
       "        vertical-align: top;\n",
       "    }\n",
       "\n",
       "    .dataframe thead th {\n",
       "        text-align: right;\n",
       "    }\n",
       "</style>\n",
       "<table border=\"1\" class=\"dataframe\">\n",
       "  <thead>\n",
       "    <tr style=\"text-align: right;\">\n",
       "      <th></th>\n",
       "      <th>url</th>\n",
       "      <th>pgn</th>\n",
       "      <th>time_control</th>\n",
       "      <th>end_time</th>\n",
       "      <th>rated</th>\n",
       "      <th>accuracies</th>\n",
       "      <th>tcn</th>\n",
       "      <th>uuid</th>\n",
       "      <th>initial_setup</th>\n",
       "      <th>fen</th>\n",
       "      <th>time_class</th>\n",
       "      <th>rules</th>\n",
       "      <th>white</th>\n",
       "      <th>black</th>\n",
       "      <th>tournament</th>\n",
       "      <th>start_time</th>\n",
       "    </tr>\n",
       "  </thead>\n",
       "  <tbody>\n",
       "    <tr>\n",
       "      <th>0</th>\n",
       "      <td>https://www.chess.com/game/live/8717136503</td>\n",
       "      <td>[Event \"Live Chess\"]\\n[Site \"Chess.com\"]\\n[Dat...</td>\n",
       "      <td>600</td>\n",
       "      <td>1614978232</td>\n",
       "      <td>True</td>\n",
       "      <td>{'white': 13.815347900907305, 'black': 49.7934...</td>\n",
       "      <td>gv0KmC5Qbs!TltZJcMJCtC9zMT7TfH8!eg2UpFQBsJBvov...</td>\n",
       "      <td>c5f9483e-7df5-11eb-bd8a-536974010001</td>\n",
       "      <td>rnbqkbnr/pppppppp/8/8/8/8/PPPPPPPP/RNBQKBNR w ...</td>\n",
       "      <td>2r2r2/pp4kp/2p3p1/1B2pp2/1b2P2Q/8/PPP2P2/R4RK1...</td>\n",
       "      <td>rapid</td>\n",
       "      <td>chess</td>\n",
       "      <td>{'rating': 981, 'result': 'win', '@id': 'https...</td>\n",
       "      <td>{'rating': 792, 'result': 'resigned', '@id': '...</td>\n",
       "      <td>NaN</td>\n",
       "      <td>NaN</td>\n",
       "    </tr>\n",
       "  </tbody>\n",
       "</table>\n",
       "</div>"
      ],
      "text/plain": [
       "                                          url  \\\n",
       "0  https://www.chess.com/game/live/8717136503   \n",
       "\n",
       "                                                 pgn time_control    end_time  \\\n",
       "0  [Event \"Live Chess\"]\\n[Site \"Chess.com\"]\\n[Dat...          600  1614978232   \n",
       "\n",
       "   rated                                         accuracies  \\\n",
       "0   True  {'white': 13.815347900907305, 'black': 49.7934...   \n",
       "\n",
       "                                                 tcn  \\\n",
       "0  gv0KmC5Qbs!TltZJcMJCtC9zMT7TfH8!eg2UpFQBsJBvov...   \n",
       "\n",
       "                                   uuid  \\\n",
       "0  c5f9483e-7df5-11eb-bd8a-536974010001   \n",
       "\n",
       "                                       initial_setup  \\\n",
       "0  rnbqkbnr/pppppppp/8/8/8/8/PPPPPPPP/RNBQKBNR w ...   \n",
       "\n",
       "                                                 fen time_class  rules  \\\n",
       "0  2r2r2/pp4kp/2p3p1/1B2pp2/1b2P2Q/8/PPP2P2/R4RK1...      rapid  chess   \n",
       "\n",
       "                                               white  \\\n",
       "0  {'rating': 981, 'result': 'win', '@id': 'https...   \n",
       "\n",
       "                                               black tournament  start_time  \n",
       "0  {'rating': 792, 'result': 'resigned', '@id': '...        NaN         NaN  "
      ]
     },
     "execution_count": 6,
     "metadata": {},
     "output_type": "execute_result"
    }
   ],
   "source": [
    "# Build df\n",
    "df = pd.DataFrame.from_dict(all_games, orient='columns')\n",
    "df.head(1)"
   ]
  },
  {
   "cell_type": "markdown",
   "metadata": {},
   "source": [
    "### Clean Data"
   ]
  },
  {
   "cell_type": "code",
   "execution_count": 7,
   "metadata": {},
   "outputs": [],
   "source": [
    "# Remove non-traditional games (Fischer random, bughouse, chess960, ...)\n",
    "df = df.query(\"rules == 'chess'\")\n",
    "df = df.rename(columns={\"start_time\": \"start_time_utx\", \"end_time\": \"end_time_utx\"})"
   ]
  },
  {
   "cell_type": "code",
   "execution_count": 8,
   "metadata": {},
   "outputs": [],
   "source": [
    "# Pull the important information out of the pgn column and return it in a dict\n",
    "def pgn_to_dict(pgn) -> dict:\n",
    "    pgn_data = {}\n",
    "    idx_to_col = {\n",
    "        2: 'start_date',\n",
    "        6: 'result',\n",
    "        9: 'ECO',\n",
    "        16: 'termination',\n",
    "        17: 'start_time',\n",
    "        18: 'end_date',\n",
    "        19: 'end_time',\n",
    "        22: 'moves'\n",
    "    }\n",
    "    \n",
    "    for i, row in enumerate(pgn.split('\\n')):\n",
    "        if i in idx_to_col.keys():\n",
    "            if i == 22:\n",
    "                pgn_data[idx_to_col[i]] = row\n",
    "            else:\n",
    "                data = row.split(\"\\\"\")[1]\n",
    "                pgn_data[idx_to_col[i]] = data\n",
    "    return pgn_data"
   ]
  },
  {
   "cell_type": "code",
   "execution_count": 9,
   "metadata": {},
   "outputs": [],
   "source": [
    "# Turn the string of pgn moves into a json format\n",
    "def game_notation_to_json(moves):\n",
    "    moves_json = {}\n",
    "    for i, line in enumerate(moves.split(']} ')):\n",
    "        if i+1 == len(moves.split(']}')):\n",
    "            break\n",
    "            \n",
    "        w_or_b = 'white' if i % 2 == 0 else 'black'\n",
    "        move_no, move, clock = line.replace('{[%clk ', '').replace('..', '').replace('. ', ' ').split(' ')\n",
    "        move_no = int(move_no)\n",
    "        ply_data = {'move': move, 'clock': clock}\n",
    "                \n",
    "        if move_no not in moves_json.keys():\n",
    "            moves_json[move_no] = { 'white': {'move': None, 'clock': None},\n",
    "                                    'black': {'move': None, 'clock': None}, }\n",
    "                \n",
    "        moves_json[move_no][w_or_b] = ply_data\n",
    "    return moves_json"
   ]
  },
  {
   "cell_type": "code",
   "execution_count": 10,
   "metadata": {},
   "outputs": [],
   "source": [
    "from bs4 import BeautifulSoup \n",
    "import html5lib\n",
    "\n",
    "# Web scrape openings and their eco codes\n",
    "eco_codes = {}\n",
    "eco_url = \"https://www.chessgames.com/chessecohelp.html\"\n",
    "eco_response = requests.get(eco_url, headers=headers)\n",
    "\n",
    "soup = BeautifulSoup(eco_response.content, \"html.parser\")\n",
    "for row in soup.find_all('tr'):\n",
    "    eco = row.find_all('td')[0].get_text()\n",
    "    opening_data = row.find_all('td')[1].get_text().split('\\n')\n",
    "    eco_codes[eco] = opening_data"
   ]
  },
  {
   "cell_type": "code",
   "execution_count": 12,
   "metadata": {},
   "outputs": [
    {
     "name": "stderr",
     "output_type": "stream",
     "text": [
      "6335it [00:05, 1215.52it/s]\n"
     ]
    }
   ],
   "source": [
    "# Expand all nested data data on one row\n",
    "for index, row in tqdm(df.iterrows(), position=0, leave=True):\n",
    "    # Expand accuracies column\n",
    "    w_accuracy = None\n",
    "    b_accuracy = None\n",
    "    \n",
    "    # If the game was analyzed, add accuracies\n",
    "    if type(row['accuracies']) != float:\n",
    "        w_accuracy = row['accuracies']['white']\n",
    "        b_accuracy = row['accuracies']['black']\n",
    "    \n",
    "    # Expand white column\n",
    "    df.at[index, 'w_accuracy'] = w_accuracy\n",
    "    df.at[index, 'w_rating'] = row['white']['rating']\n",
    "    df.at[index, 'w_result'] = row['white']['result']\n",
    "    df.at[index, 'w_username'] = row['white']['username']\n",
    "    \n",
    "    # Expand black column\n",
    "    df.at[index, 'b_accuracy'] = b_accuracy\n",
    "    df.at[index, 'b_rating'] = row['black']['rating']\n",
    "    df.at[index, 'b_result'] = row['black']['result']\n",
    "    df.at[index, 'b_username'] = row['black']['username']\n",
    "    \n",
    "    # Expand pgn column\n",
    "    pgn_data = pgn_to_dict(row['pgn'])\n",
    "    for col_name, pgn_row in pgn_data.items():\n",
    "        df.at[index, col_name] = pgn_row\n",
    "    \n",
    "    # Expand moves column\n",
    "    moves_json = game_notation_to_json(pgn_data['moves'])\n",
    "    \n",
    "    # rating = game['w_rating'] if game['w_username'] == username else game['b_rating']\n",
    "    # Check the game has move history\n",
    "    if len(moves_json) > 0:\n",
    "        df.at[index, 'moves'] = moves_json\n",
    "        df.at[index, 'opening'] = eco_codes[df.at[index, 'ECO']][0]\n",
    "        df.at[index, 'opening_moves'] = eco_codes[df.at[index, 'ECO']][1]\n",
    "        ply = (len(moves_json) * 2 - 1) if moves_json[len(moves_json)]['black']['move'] == None else (len(moves_json) * 2)\n",
    "        df.at[index, 'ply'] = int(ply)\n"
   ]
  },
  {
   "cell_type": "code",
   "execution_count": 13,
   "metadata": {},
   "outputs": [
    {
     "data": {
      "text/html": [
       "<div>\n",
       "<style scoped>\n",
       "    .dataframe tbody tr th:only-of-type {\n",
       "        vertical-align: middle;\n",
       "    }\n",
       "\n",
       "    .dataframe tbody tr th {\n",
       "        vertical-align: top;\n",
       "    }\n",
       "\n",
       "    .dataframe thead th {\n",
       "        text-align: right;\n",
       "    }\n",
       "</style>\n",
       "<table border=\"1\" class=\"dataframe\">\n",
       "  <thead>\n",
       "    <tr style=\"text-align: right;\">\n",
       "      <th></th>\n",
       "      <th>url</th>\n",
       "      <th>time_control</th>\n",
       "      <th>end_time_utx</th>\n",
       "      <th>rated</th>\n",
       "      <th>tcn</th>\n",
       "      <th>uuid</th>\n",
       "      <th>fen</th>\n",
       "      <th>time_class</th>\n",
       "      <th>rules</th>\n",
       "      <th>tournament</th>\n",
       "      <th>start_time_utx</th>\n",
       "      <th>w_accuracy</th>\n",
       "      <th>w_rating</th>\n",
       "      <th>w_result</th>\n",
       "      <th>w_username</th>\n",
       "      <th>b_accuracy</th>\n",
       "      <th>b_rating</th>\n",
       "      <th>b_result</th>\n",
       "      <th>b_username</th>\n",
       "      <th>start_date</th>\n",
       "      <th>result</th>\n",
       "      <th>ECO</th>\n",
       "      <th>termination</th>\n",
       "      <th>start_time</th>\n",
       "      <th>end_date</th>\n",
       "      <th>end_time</th>\n",
       "      <th>moves</th>\n",
       "      <th>opening</th>\n",
       "      <th>opening_moves</th>\n",
       "      <th>ply</th>\n",
       "    </tr>\n",
       "  </thead>\n",
       "  <tbody>\n",
       "    <tr>\n",
       "      <th>0</th>\n",
       "      <td>https://www.chess.com/game/live/8717136503</td>\n",
       "      <td>600</td>\n",
       "      <td>1614978232</td>\n",
       "      <td>True</td>\n",
       "      <td>gv0KmC5Qbs!TltZJcMJCtC9zMT7TfH8!eg2UpFQBsJBvov...</td>\n",
       "      <td>c5f9483e-7df5-11eb-bd8a-536974010001</td>\n",
       "      <td>2r2r2/pp4kp/2p3p1/1B2pp2/1b2P2Q/8/PPP2P2/R4RK1...</td>\n",
       "      <td>rapid</td>\n",
       "      <td>chess</td>\n",
       "      <td>NaN</td>\n",
       "      <td>NaN</td>\n",
       "      <td>13.815348</td>\n",
       "      <td>981.0</td>\n",
       "      <td>win</td>\n",
       "      <td>Spicy_Chris</td>\n",
       "      <td>49.793494</td>\n",
       "      <td>792.0</td>\n",
       "      <td>resigned</td>\n",
       "      <td>rigbl</td>\n",
       "      <td>2021.03.05</td>\n",
       "      <td>1-0</td>\n",
       "      <td>C40</td>\n",
       "      <td>Spicy_Chris won by resignation</td>\n",
       "      <td>21:00:09</td>\n",
       "      <td>2021.03.05</td>\n",
       "      <td>21:03:52</td>\n",
       "      <td>{1: {'white': {'move': 'Nf3', 'clock': '0:10:0...</td>\n",
       "      <td>King's Knight Opening</td>\n",
       "      <td>1 e4 e5 2 Nf3</td>\n",
       "      <td>40.0</td>\n",
       "    </tr>\n",
       "    <tr>\n",
       "      <th>1</th>\n",
       "      <td>https://www.chess.com/game/live/8717206583</td>\n",
       "      <td>600</td>\n",
       "      <td>1614978702</td>\n",
       "      <td>True</td>\n",
       "      <td>mC5Qbs0KfH9Igv2MvM7MltMohfInfnonenZRsJ45ne3NkA...</td>\n",
       "      <td>4d83ec20-7df6-11eb-bd8a-536974010001</td>\n",
       "      <td>3Q4/2p2p2/p1ppk3/4p1rp/2P1P1b1/3P4/PP5P/R3K3 w...</td>\n",
       "      <td>rapid</td>\n",
       "      <td>chess</td>\n",
       "      <td>NaN</td>\n",
       "      <td>NaN</td>\n",
       "      <td>NaN</td>\n",
       "      <td>1015.0</td>\n",
       "      <td>win</td>\n",
       "      <td>Shelykoopa</td>\n",
       "      <td>NaN</td>\n",
       "      <td>865.0</td>\n",
       "      <td>resigned</td>\n",
       "      <td>Spicy_Chris</td>\n",
       "      <td>2021.03.05</td>\n",
       "      <td>1-0</td>\n",
       "      <td>C25</td>\n",
       "      <td>Shelykoopa won by resignation</td>\n",
       "      <td>21:03:58</td>\n",
       "      <td>2021.03.05</td>\n",
       "      <td>21:11:42</td>\n",
       "      <td>{1: {'white': {'move': 'e4', 'clock': '0:09:58...</td>\n",
       "      <td>Vienna</td>\n",
       "      <td>1 e4 e5 2 Nc3</td>\n",
       "      <td>42.0</td>\n",
       "    </tr>\n",
       "    <tr>\n",
       "      <th>2</th>\n",
       "      <td>https://www.chess.com/game/live/8717765217</td>\n",
       "      <td>600</td>\n",
       "      <td>1614979745</td>\n",
       "      <td>True</td>\n",
       "      <td>gvZJbs!Tmu0SfHYQHt9ziqzsls8!vK5ZnDQItHWOHZ6Zeg...</td>\n",
       "      <td>63aeb534-7df7-11eb-bd8a-536974010001</td>\n",
       "      <td>1Q4k1/8/p3p1K1/1P1pPrp1/8/2P1P3/2P5/R1B4r b - -</td>\n",
       "      <td>rapid</td>\n",
       "      <td>chess</td>\n",
       "      <td>NaN</td>\n",
       "      <td>NaN</td>\n",
       "      <td>30.849567</td>\n",
       "      <td>956.0</td>\n",
       "      <td>win</td>\n",
       "      <td>Spicy_Chris</td>\n",
       "      <td>38.304636</td>\n",
       "      <td>817.0</td>\n",
       "      <td>timeout</td>\n",
       "      <td>josiefa</td>\n",
       "      <td>2021.03.05</td>\n",
       "      <td>1-0</td>\n",
       "      <td>A06</td>\n",
       "      <td>Spicy_Chris won on time</td>\n",
       "      <td>21:11:41</td>\n",
       "      <td>2021.03.05</td>\n",
       "      <td>21:29:05</td>\n",
       "      <td>{1: {'white': {'move': 'Nf3', 'clock': '0:10:0...</td>\n",
       "      <td>Reti Opening</td>\n",
       "      <td>1 Nf3 d5</td>\n",
       "      <td>75.0</td>\n",
       "    </tr>\n",
       "    <tr>\n",
       "      <th>3</th>\n",
       "      <td>https://www.chess.com/game/live/8932634011</td>\n",
       "      <td>300</td>\n",
       "      <td>1615194322</td>\n",
       "      <td>True</td>\n",
       "      <td>mC5QgvZJCJ7JbsJSfmXPvMSLlB0KmA6SBJ3VMvKCvFLEJS...</td>\n",
       "      <td>3a105422-7fec-11eb-968e-536974010001</td>\n",
       "      <td>4Q3/pkp1R3/1pn3rB/8/8/1P6/P1P2PqP/5RK1 w - -</td>\n",
       "      <td>blitz</td>\n",
       "      <td>chess</td>\n",
       "      <td>NaN</td>\n",
       "      <td>NaN</td>\n",
       "      <td>34.754114</td>\n",
       "      <td>767.0</td>\n",
       "      <td>checkmated</td>\n",
       "      <td>liptondavid</td>\n",
       "      <td>14.971387</td>\n",
       "      <td>965.0</td>\n",
       "      <td>win</td>\n",
       "      <td>Spicy_Chris</td>\n",
       "      <td>2021.03.08</td>\n",
       "      <td>0-1</td>\n",
       "      <td>B00</td>\n",
       "      <td>Spicy_Chris won by checkmate</td>\n",
       "      <td>08:56:53</td>\n",
       "      <td>2021.03.08</td>\n",
       "      <td>09:05:22</td>\n",
       "      <td>{1: {'white': {'move': 'e4', 'clock': '0:05:00...</td>\n",
       "      <td>Uncommon King's Pawn Opening</td>\n",
       "      <td>1 e4</td>\n",
       "      <td>56.0</td>\n",
       "    </tr>\n",
       "    <tr>\n",
       "      <th>4</th>\n",
       "      <td>https://www.chess.com/game/live/8933228327</td>\n",
       "      <td>600</td>\n",
       "      <td>1615194896</td>\n",
       "      <td>True</td>\n",
       "      <td>gvYImuZJks2UfH6ZdyWOvK!THZTZKZ5ZlBIAjzXHyGZPnv...</td>\n",
       "      <td>886020b1-7fed-11eb-968e-536974010001</td>\n",
       "      <td>4kR1r/r3p2p/p5p1/4q1B1/1Pp1p3/2n5/P5PP/R3K3 b ...</td>\n",
       "      <td>rapid</td>\n",
       "      <td>chess</td>\n",
       "      <td>NaN</td>\n",
       "      <td>NaN</td>\n",
       "      <td>NaN</td>\n",
       "      <td>864.0</td>\n",
       "      <td>resigned</td>\n",
       "      <td>Spicy_Chris</td>\n",
       "      <td>NaN</td>\n",
       "      <td>901.0</td>\n",
       "      <td>win</td>\n",
       "      <td>DanieloLeFicelo</td>\n",
       "      <td>2021.03.08</td>\n",
       "      <td>0-1</td>\n",
       "      <td>A04</td>\n",
       "      <td>DanieloLeFicelo won by resignation</td>\n",
       "      <td>09:06:17</td>\n",
       "      <td>2021.03.08</td>\n",
       "      <td>09:14:56</td>\n",
       "      <td>{1: {'white': {'move': 'Nf3', 'clock': '0:10:0...</td>\n",
       "      <td>Reti Opening</td>\n",
       "      <td>1 Nf3</td>\n",
       "      <td>41.0</td>\n",
       "    </tr>\n",
       "    <tr>\n",
       "      <th>...</th>\n",
       "      <td>...</td>\n",
       "      <td>...</td>\n",
       "      <td>...</td>\n",
       "      <td>...</td>\n",
       "      <td>...</td>\n",
       "      <td>...</td>\n",
       "      <td>...</td>\n",
       "      <td>...</td>\n",
       "      <td>...</td>\n",
       "      <td>...</td>\n",
       "      <td>...</td>\n",
       "      <td>...</td>\n",
       "      <td>...</td>\n",
       "      <td>...</td>\n",
       "      <td>...</td>\n",
       "      <td>...</td>\n",
       "      <td>...</td>\n",
       "      <td>...</td>\n",
       "      <td>...</td>\n",
       "      <td>...</td>\n",
       "      <td>...</td>\n",
       "      <td>...</td>\n",
       "      <td>...</td>\n",
       "      <td>...</td>\n",
       "      <td>...</td>\n",
       "      <td>...</td>\n",
       "      <td>...</td>\n",
       "      <td>...</td>\n",
       "      <td>...</td>\n",
       "      <td>...</td>\n",
       "    </tr>\n",
       "    <tr>\n",
       "      <th>6335</th>\n",
       "      <td>https://www.chess.com/game/live/96112995041</td>\n",
       "      <td>600</td>\n",
       "      <td>1702374501</td>\n",
       "      <td>True</td>\n",
       "      <td>lBZJkA0KBKJBgv5Qiq6Ebl90pxENjzWOcj1TKT0TlCNvCT...</td>\n",
       "      <td>2e14723b-98d2-11ee-a837-6cfe544c0428</td>\n",
       "      <td>4r3/8/6R1/2p5/4BkP1/5P1P/5P2/4K3 b - -</td>\n",
       "      <td>rapid</td>\n",
       "      <td>chess</td>\n",
       "      <td>NaN</td>\n",
       "      <td>NaN</td>\n",
       "      <td>NaN</td>\n",
       "      <td>1604.0</td>\n",
       "      <td>win</td>\n",
       "      <td>Spicy_Chris</td>\n",
       "      <td>NaN</td>\n",
       "      <td>1629.0</td>\n",
       "      <td>resigned</td>\n",
       "      <td>KingtakesQueen23</td>\n",
       "      <td>2023.12.12</td>\n",
       "      <td>1-0</td>\n",
       "      <td>D08</td>\n",
       "      <td>Spicy_Chris won by resignation</td>\n",
       "      <td>09:38:13</td>\n",
       "      <td>2023.12.12</td>\n",
       "      <td>09:48:21</td>\n",
       "      <td>{1: {'white': {'move': 'd4', 'clock': '0:10:00...</td>\n",
       "      <td>Queen's Gambit Declined, Albin Counter Gambit</td>\n",
       "      <td>1 d4 d5 2 c4 e5</td>\n",
       "      <td>75.0</td>\n",
       "    </tr>\n",
       "    <tr>\n",
       "      <th>6336</th>\n",
       "      <td>https://www.chess.com/game/live/96113596875</td>\n",
       "      <td>600</td>\n",
       "      <td>1702375153</td>\n",
       "      <td>True</td>\n",
       "      <td>gv!TlB0SkAZJAIXPjz5Qdr90cj6OzHQGrtOXIQX6bl0ziq...</td>\n",
       "      <td>97f17860-98d3-11ee-a837-6cfe544c0428</td>\n",
       "      <td>6k1/2p2p1p/2P3p1/1b1P4/8/2R5/5PPP/6K1 b - -</td>\n",
       "      <td>rapid</td>\n",
       "      <td>chess</td>\n",
       "      <td>NaN</td>\n",
       "      <td>NaN</td>\n",
       "      <td>NaN</td>\n",
       "      <td>1593.0</td>\n",
       "      <td>win</td>\n",
       "      <td>ufalgo</td>\n",
       "      <td>NaN</td>\n",
       "      <td>1596.0</td>\n",
       "      <td>resigned</td>\n",
       "      <td>Spicy_Chris</td>\n",
       "      <td>2023.12.12</td>\n",
       "      <td>1-0</td>\n",
       "      <td>A46</td>\n",
       "      <td>ufalgo won by resignation</td>\n",
       "      <td>09:48:17</td>\n",
       "      <td>2023.12.12</td>\n",
       "      <td>09:59:13</td>\n",
       "      <td>{1: {'white': {'move': 'Nf3', 'clock': '0:10:0...</td>\n",
       "      <td>Queen's Pawn Game</td>\n",
       "      <td>1 d4 Nf6 2 Nf3</td>\n",
       "      <td>65.0</td>\n",
       "    </tr>\n",
       "    <tr>\n",
       "      <th>6337</th>\n",
       "      <td>https://www.chess.com/game/live/96114209307</td>\n",
       "      <td>600</td>\n",
       "      <td>1702375782</td>\n",
       "      <td>True</td>\n",
       "      <td>lB2UkA92bsZRmCYQgv6Efm7PsyPGclGYlu5Zeg0KBJQJCJ...</td>\n",
       "      <td>1de7f1d8-98d5-11ee-a837-6cfe544c0428</td>\n",
       "      <td>r7/3nkp1p/r2p1bp1/3P4/4p3/N1R4P/5PP1/R5K1 w - -</td>\n",
       "      <td>rapid</td>\n",
       "      <td>chess</td>\n",
       "      <td>NaN</td>\n",
       "      <td>NaN</td>\n",
       "      <td>NaN</td>\n",
       "      <td>1588.0</td>\n",
       "      <td>resigned</td>\n",
       "      <td>Spicy_Chris</td>\n",
       "      <td>NaN</td>\n",
       "      <td>1597.0</td>\n",
       "      <td>win</td>\n",
       "      <td>Ivanka1983</td>\n",
       "      <td>2023.12.12</td>\n",
       "      <td>0-1</td>\n",
       "      <td>A41</td>\n",
       "      <td>Ivanka1983 won by resignation</td>\n",
       "      <td>09:59:17</td>\n",
       "      <td>2023.12.12</td>\n",
       "      <td>10:09:42</td>\n",
       "      <td>{1: {'white': {'move': 'd4', 'clock': '0:10:00...</td>\n",
       "      <td>Queen's Pawn Game (with ...d6)</td>\n",
       "      <td>1 d4 d6</td>\n",
       "      <td>56.0</td>\n",
       "    </tr>\n",
       "    <tr>\n",
       "      <th>6338</th>\n",
       "      <td>https://www.chess.com/game/live/96114818193</td>\n",
       "      <td>600</td>\n",
       "      <td>1702376935</td>\n",
       "      <td>True</td>\n",
       "      <td>lB!TcD0SmuYIks5QblWOoETJDwXHuCJTdmIBsBQBmt9Ifo...</td>\n",
       "      <td>991d1fcf-98d6-11ee-a837-6cfe544c0428</td>\n",
       "      <td>8/5p2/5K2/kP5P/4P1P1/4b3/8/5B2 b - -</td>\n",
       "      <td>rapid</td>\n",
       "      <td>chess</td>\n",
       "      <td>NaN</td>\n",
       "      <td>NaN</td>\n",
       "      <td>NaN</td>\n",
       "      <td>1559.0</td>\n",
       "      <td>win</td>\n",
       "      <td>Heiner63</td>\n",
       "      <td>NaN</td>\n",
       "      <td>1579.0</td>\n",
       "      <td>resigned</td>\n",
       "      <td>Spicy_Chris</td>\n",
       "      <td>2023.12.12</td>\n",
       "      <td>1-0</td>\n",
       "      <td>A45</td>\n",
       "      <td>Heiner63 won by resignation</td>\n",
       "      <td>10:09:46</td>\n",
       "      <td>2023.12.12</td>\n",
       "      <td>10:28:55</td>\n",
       "      <td>{1: {'white': {'move': 'd4', 'clock': '0:10:00...</td>\n",
       "      <td>Queen's Pawn Game</td>\n",
       "      <td>1 d4 Nf6</td>\n",
       "      <td>105.0</td>\n",
       "    </tr>\n",
       "    <tr>\n",
       "      <th>6339</th>\n",
       "      <td>https://www.chess.com/game/live/96210324957</td>\n",
       "      <td>600</td>\n",
       "      <td>1702472473</td>\n",
       "      <td>True</td>\n",
       "      <td>lB!TkA2Ubs92cD8!gvZRmu5Zft98dkTNDw0KBKRKwF1TtU...</td>\n",
       "      <td>875c56ef-99b5-11ee-a837-6cfe544c0428</td>\n",
       "      <td>8/8/7R/8/p2BN1Pk/4P2P/1nr2P2/5K2 b - -</td>\n",
       "      <td>rapid</td>\n",
       "      <td>chess</td>\n",
       "      <td>NaN</td>\n",
       "      <td>NaN</td>\n",
       "      <td>NaN</td>\n",
       "      <td>1588.0</td>\n",
       "      <td>win</td>\n",
       "      <td>Spicy_Chris</td>\n",
       "      <td>NaN</td>\n",
       "      <td>1627.0</td>\n",
       "      <td>checkmated</td>\n",
       "      <td>r_3g</td>\n",
       "      <td>2023.12.13</td>\n",
       "      <td>1-0</td>\n",
       "      <td>E61</td>\n",
       "      <td>Spicy_Chris won by checkmate</td>\n",
       "      <td>12:45:45</td>\n",
       "      <td>2023.12.13</td>\n",
       "      <td>13:01:13</td>\n",
       "      <td>{1: {'white': {'move': 'd4', 'clock': '0:10:00...</td>\n",
       "      <td>King's Indian</td>\n",
       "      <td>1 d4 Nf6 2 c4 g6 3 Nc3</td>\n",
       "      <td>91.0</td>\n",
       "    </tr>\n",
       "  </tbody>\n",
       "</table>\n",
       "<p>6335 rows × 30 columns</p>\n",
       "</div>"
      ],
      "text/plain": [
       "                                              url time_control  end_time_utx  \\\n",
       "0      https://www.chess.com/game/live/8717136503          600    1614978232   \n",
       "1      https://www.chess.com/game/live/8717206583          600    1614978702   \n",
       "2      https://www.chess.com/game/live/8717765217          600    1614979745   \n",
       "3      https://www.chess.com/game/live/8932634011          300    1615194322   \n",
       "4      https://www.chess.com/game/live/8933228327          600    1615194896   \n",
       "...                                           ...          ...           ...   \n",
       "6335  https://www.chess.com/game/live/96112995041          600    1702374501   \n",
       "6336  https://www.chess.com/game/live/96113596875          600    1702375153   \n",
       "6337  https://www.chess.com/game/live/96114209307          600    1702375782   \n",
       "6338  https://www.chess.com/game/live/96114818193          600    1702376935   \n",
       "6339  https://www.chess.com/game/live/96210324957          600    1702472473   \n",
       "\n",
       "      rated                                                tcn  \\\n",
       "0      True  gv0KmC5Qbs!TltZJcMJCtC9zMT7TfH8!eg2UpFQBsJBvov...   \n",
       "1      True  mC5Qbs0KfH9Igv2MvM7MltMohfInfnonenZRsJ45ne3NkA...   \n",
       "2      True  gvZJbs!Tmu0SfHYQHt9ziqzsls8!vK5ZnDQItHWOHZ6Zeg...   \n",
       "3      True  mC5QgvZJCJ7JbsJSfmXPvMSLlB0KmA6SBJ3VMvKCvFLEJS...   \n",
       "4      True  gvYImuZJks2UfH6ZdyWOvK!THZTZKZ5ZlBIAjzXHyGZPnv...   \n",
       "...     ...                                                ...   \n",
       "6335   True  lBZJkA0KBKJBgv5Qiq6Ebl90pxENjzWOcj1TKT0TlCNvCT...   \n",
       "6336   True  gv!TlB0SkAZJAIXPjz5Qdr90cj6OzHQGrtOXIQX6bl0ziq...   \n",
       "6337   True  lB2UkA92bsZRmCYQgv6Efm7PsyPGclGYlu5Zeg0KBJQJCJ...   \n",
       "6338   True  lB!TcD0SmuYIks5QblWOoETJDwXHuCJTdmIBsBQBmt9Ifo...   \n",
       "6339   True  lB!TkA2Ubs92cD8!gvZRmu5Zft98dkTNDw0KBKRKwF1TtU...   \n",
       "\n",
       "                                      uuid  \\\n",
       "0     c5f9483e-7df5-11eb-bd8a-536974010001   \n",
       "1     4d83ec20-7df6-11eb-bd8a-536974010001   \n",
       "2     63aeb534-7df7-11eb-bd8a-536974010001   \n",
       "3     3a105422-7fec-11eb-968e-536974010001   \n",
       "4     886020b1-7fed-11eb-968e-536974010001   \n",
       "...                                    ...   \n",
       "6335  2e14723b-98d2-11ee-a837-6cfe544c0428   \n",
       "6336  97f17860-98d3-11ee-a837-6cfe544c0428   \n",
       "6337  1de7f1d8-98d5-11ee-a837-6cfe544c0428   \n",
       "6338  991d1fcf-98d6-11ee-a837-6cfe544c0428   \n",
       "6339  875c56ef-99b5-11ee-a837-6cfe544c0428   \n",
       "\n",
       "                                                    fen time_class  rules  \\\n",
       "0     2r2r2/pp4kp/2p3p1/1B2pp2/1b2P2Q/8/PPP2P2/R4RK1...      rapid  chess   \n",
       "1     3Q4/2p2p2/p1ppk3/4p1rp/2P1P1b1/3P4/PP5P/R3K3 w...      rapid  chess   \n",
       "2       1Q4k1/8/p3p1K1/1P1pPrp1/8/2P1P3/2P5/R1B4r b - -      rapid  chess   \n",
       "3          4Q3/pkp1R3/1pn3rB/8/8/1P6/P1P2PqP/5RK1 w - -      blitz  chess   \n",
       "4     4kR1r/r3p2p/p5p1/4q1B1/1Pp1p3/2n5/P5PP/R3K3 b ...      rapid  chess   \n",
       "...                                                 ...        ...    ...   \n",
       "6335             4r3/8/6R1/2p5/4BkP1/5P1P/5P2/4K3 b - -      rapid  chess   \n",
       "6336        6k1/2p2p1p/2P3p1/1b1P4/8/2R5/5PPP/6K1 b - -      rapid  chess   \n",
       "6337    r7/3nkp1p/r2p1bp1/3P4/4p3/N1R4P/5PP1/R5K1 w - -      rapid  chess   \n",
       "6338               8/5p2/5K2/kP5P/4P1P1/4b3/8/5B2 b - -      rapid  chess   \n",
       "6339             8/8/7R/8/p2BN1Pk/4P2P/1nr2P2/5K2 b - -      rapid  chess   \n",
       "\n",
       "     tournament  start_time_utx  w_accuracy  w_rating    w_result  \\\n",
       "0           NaN             NaN   13.815348     981.0         win   \n",
       "1           NaN             NaN         NaN    1015.0         win   \n",
       "2           NaN             NaN   30.849567     956.0         win   \n",
       "3           NaN             NaN   34.754114     767.0  checkmated   \n",
       "4           NaN             NaN         NaN     864.0    resigned   \n",
       "...         ...             ...         ...       ...         ...   \n",
       "6335        NaN             NaN         NaN    1604.0         win   \n",
       "6336        NaN             NaN         NaN    1593.0         win   \n",
       "6337        NaN             NaN         NaN    1588.0    resigned   \n",
       "6338        NaN             NaN         NaN    1559.0         win   \n",
       "6339        NaN             NaN         NaN    1588.0         win   \n",
       "\n",
       "       w_username  b_accuracy  b_rating    b_result        b_username  \\\n",
       "0     Spicy_Chris   49.793494     792.0    resigned             rigbl   \n",
       "1      Shelykoopa         NaN     865.0    resigned       Spicy_Chris   \n",
       "2     Spicy_Chris   38.304636     817.0     timeout           josiefa   \n",
       "3     liptondavid   14.971387     965.0         win       Spicy_Chris   \n",
       "4     Spicy_Chris         NaN     901.0         win   DanieloLeFicelo   \n",
       "...           ...         ...       ...         ...               ...   \n",
       "6335  Spicy_Chris         NaN    1629.0    resigned  KingtakesQueen23   \n",
       "6336       ufalgo         NaN    1596.0    resigned       Spicy_Chris   \n",
       "6337  Spicy_Chris         NaN    1597.0         win        Ivanka1983   \n",
       "6338     Heiner63         NaN    1579.0    resigned       Spicy_Chris   \n",
       "6339  Spicy_Chris         NaN    1627.0  checkmated              r_3g   \n",
       "\n",
       "      start_date result  ECO                         termination start_time  \\\n",
       "0     2021.03.05    1-0  C40      Spicy_Chris won by resignation   21:00:09   \n",
       "1     2021.03.05    1-0  C25       Shelykoopa won by resignation   21:03:58   \n",
       "2     2021.03.05    1-0  A06             Spicy_Chris won on time   21:11:41   \n",
       "3     2021.03.08    0-1  B00        Spicy_Chris won by checkmate   08:56:53   \n",
       "4     2021.03.08    0-1  A04  DanieloLeFicelo won by resignation   09:06:17   \n",
       "...          ...    ...  ...                                 ...        ...   \n",
       "6335  2023.12.12    1-0  D08      Spicy_Chris won by resignation   09:38:13   \n",
       "6336  2023.12.12    1-0  A46           ufalgo won by resignation   09:48:17   \n",
       "6337  2023.12.12    0-1  A41       Ivanka1983 won by resignation   09:59:17   \n",
       "6338  2023.12.12    1-0  A45         Heiner63 won by resignation   10:09:46   \n",
       "6339  2023.12.13    1-0  E61        Spicy_Chris won by checkmate   12:45:45   \n",
       "\n",
       "        end_date  end_time                                              moves  \\\n",
       "0     2021.03.05  21:03:52  {1: {'white': {'move': 'Nf3', 'clock': '0:10:0...   \n",
       "1     2021.03.05  21:11:42  {1: {'white': {'move': 'e4', 'clock': '0:09:58...   \n",
       "2     2021.03.05  21:29:05  {1: {'white': {'move': 'Nf3', 'clock': '0:10:0...   \n",
       "3     2021.03.08  09:05:22  {1: {'white': {'move': 'e4', 'clock': '0:05:00...   \n",
       "4     2021.03.08  09:14:56  {1: {'white': {'move': 'Nf3', 'clock': '0:10:0...   \n",
       "...          ...       ...                                                ...   \n",
       "6335  2023.12.12  09:48:21  {1: {'white': {'move': 'd4', 'clock': '0:10:00...   \n",
       "6336  2023.12.12  09:59:13  {1: {'white': {'move': 'Nf3', 'clock': '0:10:0...   \n",
       "6337  2023.12.12  10:09:42  {1: {'white': {'move': 'd4', 'clock': '0:10:00...   \n",
       "6338  2023.12.12  10:28:55  {1: {'white': {'move': 'd4', 'clock': '0:10:00...   \n",
       "6339  2023.12.13  13:01:13  {1: {'white': {'move': 'd4', 'clock': '0:10:00...   \n",
       "\n",
       "                                            opening           opening_moves  \\\n",
       "0                             King's Knight Opening           1 e4 e5 2 Nf3   \n",
       "1                                            Vienna           1 e4 e5 2 Nc3   \n",
       "2                                      Reti Opening                1 Nf3 d5   \n",
       "3                      Uncommon King's Pawn Opening                    1 e4   \n",
       "4                                      Reti Opening                   1 Nf3   \n",
       "...                                             ...                     ...   \n",
       "6335  Queen's Gambit Declined, Albin Counter Gambit         1 d4 d5 2 c4 e5   \n",
       "6336                              Queen's Pawn Game          1 d4 Nf6 2 Nf3   \n",
       "6337                 Queen's Pawn Game (with ...d6)                 1 d4 d6   \n",
       "6338                              Queen's Pawn Game                1 d4 Nf6   \n",
       "6339                                  King's Indian  1 d4 Nf6 2 c4 g6 3 Nc3   \n",
       "\n",
       "        ply  \n",
       "0      40.0  \n",
       "1      42.0  \n",
       "2      75.0  \n",
       "3      56.0  \n",
       "4      41.0  \n",
       "...     ...  \n",
       "6335   75.0  \n",
       "6336   65.0  \n",
       "6337   56.0  \n",
       "6338  105.0  \n",
       "6339   91.0  \n",
       "\n",
       "[6335 rows x 30 columns]"
      ]
     },
     "execution_count": 13,
     "metadata": {},
     "output_type": "execute_result"
    }
   ],
   "source": [
    "# Remove old / unwanted columns\n",
    "df = df.drop(columns=['accuracies', 'black', 'white', 'pgn', 'initial_setup'], axis=1)\n",
    "\n",
    "# Order by date\n",
    "df.sort_values('end_time_utx')"
   ]
  },
  {
   "cell_type": "code",
   "execution_count": null,
   "metadata": {},
   "outputs": [],
   "source": []
  },
  {
   "cell_type": "markdown",
   "metadata": {},
   "source": [
    "## Analysis"
   ]
  },
  {
   "cell_type": "code",
   "execution_count": 14,
   "metadata": {},
   "outputs": [
    {
     "name": "stdout",
     "output_type": "stream",
     "text": [
      "Account creation date:  2021-02-28 04:46:42\n"
     ]
    }
   ],
   "source": [
    "profile_url = f\"https://api.chess.com/pub/player/{username}\"\n",
    "profile_data = requests.get(profile_url, headers=headers).json()\n",
    "join_date_utx = profile_data['joined']\n",
    "join_date = datetime.fromtimestamp(join_date_utx)\n",
    "print(\"Account creation date: \", join_date)"
   ]
  },
  {
   "cell_type": "markdown",
   "metadata": {},
   "source": [
    "### What is my puzzle highest rating?"
   ]
  },
  {
   "cell_type": "code",
   "execution_count": 15,
   "metadata": {
    "scrolled": true
   },
   "outputs": [
    {
     "name": "stdout",
     "output_type": "stream",
     "text": [
      "Highest Rating: 2543 on 2023-11-27 17:57:18 \n",
      "\n"
     ]
    }
   ],
   "source": [
    "print(f\"Highest Rating: {player_stats['tactics']['highest']['rating']} on {datetime.utcfromtimestamp(player_stats['tactics']['highest']['date'])} \\n\")"
   ]
  },
  {
   "cell_type": "markdown",
   "metadata": {},
   "source": [
    "### What is my best puzzle rush game?"
   ]
  },
  {
   "cell_type": "code",
   "execution_count": 16,
   "metadata": {},
   "outputs": [
    {
     "name": "stdout",
     "output_type": "stream",
     "text": [
      "Best Game: 27 / 30 points\n"
     ]
    }
   ],
   "source": [
    "print(f\"Best Game: {player_stats['puzzle_rush']['best']['score']} / {player_stats['puzzle_rush']['best']['total_attempts']} points\")"
   ]
  },
  {
   "cell_type": "markdown",
   "metadata": {},
   "source": [
    "### How many games do I have for each time limit?"
   ]
  },
  {
   "cell_type": "code",
   "execution_count": 17,
   "metadata": {},
   "outputs": [
    {
     "data": {
      "image/png": "[encoded data removed]",
      "text/plain": [
       "<Figure size 432x288 with 1 Axes>"
      ]
     },
     "metadata": {
      "needs_background": "light"
     },
     "output_type": "display_data"
    }
   ],
   "source": [
    "x = []\n",
    "labels = []\n",
    "for time_class in df['time_class'].unique():\n",
    "    query_result = df.query(f\"time_class == '{time_class}'\")\n",
    "    x.append(len(query_result))\n",
    "    labels.append(time_class)\n",
    "\n",
    "plt.bar(labels, x)\n",
    "plt.xlabel('Time Class')\n",
    "plt.ylabel('# of Games')\n",
    "plt.title('All Games')\n",
    "plt.show()"
   ]
  },
  {
   "cell_type": "markdown",
   "metadata": {},
   "source": [
    "### How has my rating changed over time for each time class?"
   ]
  },
  {
   "cell_type": "code",
   "execution_count": 18,
   "metadata": {
    "scrolled": true
   },
   "outputs": [
    {
     "data": {
      "image/png": "[encoded data removed]",
      "text/plain": [
       "<Figure size 432x288 with 1 Axes>"
      ]
     },
     "metadata": {
      "needs_background": "light"
     },
     "output_type": "display_data"
    }
   ],
   "source": [
    "time_class_query = lambda time_class: f\"time_class == '{time_class}'\"\n",
    "time_classes = {'chess_bullet': 'bullet', 'chess_blitz': 'blitz', 'chess_rapid': 'rapid', 'chess_daily': 'daily'}\n",
    "\n",
    "for k, v in time_classes.items():\n",
    "    games = df.query(time_class_query(v))\n",
    "    games.head()\n",
    "    games.sort_values('end_time_utx')\n",
    "    ratings = []\n",
    "    dates = []\n",
    "    \n",
    "    for idx, game in games.iterrows():\n",
    "        rating = game['w_rating'] if game['w_username'] == username else game['b_rating']\n",
    "        date = game['end_time_utx']\n",
    "        ratings.append(rating)\n",
    "        dates.append(date)\n",
    "        \n",
    "    plt.plot(dates, ratings, label=v)\n",
    "\n",
    "    \n",
    "plt.legend(loc=\"upper left\")\n",
    "plt.xlabel('Date')\n",
    "plt.ylabel('ELO')\n",
    "plt.title('Rating Changes')\n",
    "plt.show()"
   ]
  },
  {
   "cell_type": "markdown",
   "metadata": {},
   "source": [
    "### What is my success rate with my most popular openings"
   ]
  },
  {
   "cell_type": "code",
   "execution_count": 19,
   "metadata": {},
   "outputs": [
    {
     "name": "stdout",
     "output_type": "stream",
     "text": [
      "['win' 'checkmated' 'resigned' 'abandoned' 'stalemate' 'agreed'\n",
      " 'insufficient' 'timeout' 'repetition' '50move' 'timevsinsufficient']\n"
     ]
    }
   ],
   "source": [
    "print(df['w_result'].unique())"
   ]
  },
  {
   "cell_type": "code",
   "execution_count": 20,
   "metadata": {},
   "outputs": [],
   "source": [
    "win_conditions = ['win', 'checkmated']\n",
    "draw_conditions = ['stalemate', 'agreed', 'insufficient', 'repetition', '50move', 'timevsinsufficient']\n",
    "loss_conditions = ['resigned', 'abandoned', 'timeout']"
   ]
  },
  {
   "cell_type": "code",
   "execution_count": 21,
   "metadata": {},
   "outputs": [],
   "source": [
    "white_wins = []\n",
    "white_draws = []\n",
    "white_losses = []\n",
    "white_labels = []\n",
    "white_totals = []\n",
    "white_games = df.query(f\"w_username == '{username}'\")\n",
    "for opening in white_games['opening'].unique():\n",
    "    opening_games = white_games.query(f\"opening == \\\"{opening}\\\"\")\n",
    "    white_wins.append(len(opening_games.query(f\"w_result in {win_conditions}\")))\n",
    "    white_draws.append(len(opening_games.query(f\"w_result in {draw_conditions}\")))\n",
    "    white_losses.append(len(opening_games.query(f\"w_result in {loss_conditions}\")))\n",
    "    white_labels.append(opening)\n",
    "    white_totals.append(len(opening_games))\n",
    "\n",
    "w_zipped = sorted(zip(white_labels, white_totals, white_wins, white_draws, white_losses), key=lambda x: x[1], reverse=True)\n",
    "w_zipped = w_zipped"
   ]
  },
  {
   "cell_type": "code",
   "execution_count": 22,
   "metadata": {},
   "outputs": [],
   "source": [
    "x = [label[0] for label in w_zipped[:10]]\n",
    "opening_wins = [label[2] for label in w_zipped[:10]]\n",
    "opening_draws = [label[3] for label in w_zipped[:10]]\n",
    "opening_losses = [label[4] for label in w_zipped[:10]]"
   ]
  },
  {
   "cell_type": "code",
   "execution_count": 24,
   "metadata": {},
   "outputs": [
    {
     "data": {
      "image/png": "[encoded data removed]",
      "text/plain": [
       "<Figure size 432x288 with 1 Axes>"
      ]
     },
     "metadata": {
      "needs_background": "light"
     },
     "output_type": "display_data"
    }
   ],
   "source": [
    "plt.bar(x, opening_wins, color='green')\n",
    "plt.bar(x, opening_draws, bottom=opening_wins, color='gray')\n",
    "plt.bar(x, opening_losses, bottom=np.add(opening_wins, opening_draws), color='red')\n",
    "plt.xlabel('Opening')\n",
    "plt.ylabel('# of games')\n",
    "plt.title('Most Played White Openings Success Rate')\n",
    "plt.show()"
   ]
  },
  {
   "cell_type": "code",
   "execution_count": 29,
   "metadata": {},
   "outputs": [
    {
     "name": "stdout",
     "output_type": "stream",
     "text": [
      "Queen's Pawn Game -- 589 W / 37 D / 285 L (65% / 4% / 31%)\n",
      "Queen's Gambit Declined -- 492 W / 27 D / 221 L (66% / 4% / 30%)\n",
      "Queen's Gambit Accepted -- 256 W / 16 D / 138 L (62% / 4% / 34%)\n",
      "Queen's Gambit Declined Slav -- 170 W / 8 D / 79 L (66% / 3% / 31%)\n",
      "King's Indian -- 75 W / 6 D / 40 L (62% / 5% / 33%)\n",
      "Queen's Gambit Declined, Albin Counter Gambit -- 57 W / 1 D / 37 L (60% / 1% / 39%)\n",
      "Queen's Pawn Game (with ...d6) -- 48 W / 3 D / 25 L (63% / 4% / 33%)\n",
      "Old Indian -- 42 W / 6 D / 19 L (63% / 9% / 28%)\n",
      "Dutch -- 33 W / 2 D / 18 L (62% / 4% / 34%)\n",
      "Old Benoni -- 29 W / 3 D / 20 L (56% / 6% / 38%)\n"
     ]
    }
   ],
   "source": [
    "for opening in w_zipped[:10]:\n",
    "    print(f\"{opening[0]} -- {opening[2]} W / {opening[3]} D / {opening[4]} L ({round(opening[2] / opening[1] * 100)}% / {round(opening[3] / opening[1] * 100)}% / {round(opening[4] / opening[1] * 100)}%)\")"
   ]
  },
  {
   "cell_type": "code",
   "execution_count": 30,
   "metadata": {
    "scrolled": true
   },
   "outputs": [],
   "source": [
    "black_wins = []\n",
    "black_draws = []\n",
    "black_losses = []\n",
    "black_labels = []\n",
    "black_totals = []\n",
    "black_games = df.query(f\"b_username == '{username}'\")\n",
    "for opening in black_games['opening'].unique():\n",
    "    opening_games = black_games.query(f\"opening == \\\"{opening}\\\"\")\n",
    "    black_wins.append(len(opening_games.query(f\"b_result in {win_conditions}\")))\n",
    "    black_draws.append(len(opening_games.query(f\"b_result in {draw_conditions}\")))\n",
    "    black_losses.append(len(opening_games.query(f\"b_result in {loss_conditions}\")))\n",
    "    black_labels.append(opening)\n",
    "    black_totals.append(len(opening_games))\n",
    "\n",
    "b_zipped = sorted(zip(black_labels, black_totals, black_wins, black_draws, black_losses), key=lambda x: x[1], reverse=True)\n",
    "b_zipped = b_zipped"
   ]
  },
  {
   "cell_type": "code",
   "execution_count": 31,
   "metadata": {},
   "outputs": [],
   "source": [
    "x = [label[0] for label in b_zipped[:10]]\n",
    "b_opening_wins = [label[2] for label in b_zipped[:10]]\n",
    "b_opening_draws = [label[3] for label in b_zipped[:10]]\n",
    "b_opening_losses = [label[4] for label in b_zipped[:10]]"
   ]
  },
  {
   "cell_type": "code",
   "execution_count": 32,
   "metadata": {},
   "outputs": [
    {
     "data": {
      "image/png": "[encoded data removed]",
      "text/plain": [
       "<Figure size 432x288 with 1 Axes>"
      ]
     },
     "metadata": {
      "needs_background": "light"
     },
     "output_type": "display_data"
    }
   ],
   "source": [
    "plt.bar(x, b_opening_wins, color='green')\n",
    "plt.bar(x, b_opening_draws, bottom=b_opening_wins, color='gray')\n",
    "plt.bar(x, b_opening_losses, bottom=np.add(b_opening_wins, b_opening_draws), color='red')\n",
    "plt.xlabel('Opening')\n",
    "plt.ylabel('# of games')\n",
    "plt.show()"
   ]
  },
  {
   "cell_type": "code",
   "execution_count": 33,
   "metadata": {},
   "outputs": [
    {
     "name": "stdout",
     "output_type": "stream",
     "text": [
      "Sicilian -- 452 W / 27 D / 220 L (65% / 4% / 31%)\n",
      "Queen's Pawn Game -- 362 W / 22 D / 216 L (60% / 4% / 36%)\n",
      "Giuoco Piano -- 94 W / 6 D / 64 L (57% / 4% / 39%)\n",
      "Sicilian, Closed -- 93 W / 5 D / 39 L (68% / 4% / 28%)\n",
      "Sicilian, 2.f4 and 2.d4 -- 77 W / 10 D / 43 L (59% / 8% / 33%)\n",
      "Robatsch -- 78 W / 3 D / 47 L (61% / 2% / 37%)\n",
      "Uncommon Opening -- 80 W / 7 D / 33 L (67% / 6% / 28%)\n",
      "Sicilian, Alapin -- 68 W / 6 D / 41 L (59% / 5% / 36%)\n",
      "Scandinavian -- 50 W / 2 D / 41 L (54% / 2% / 44%)\n",
      "Petrov Defense -- 29 W / 5 D / 24 L (50% / 9% / 41%)\n"
     ]
    }
   ],
   "source": [
    "for opening in b_zipped[:10]:\n",
    "    print(f\"{opening[0]} -- {opening[2]} W / {opening[3]} D / {opening[4]} L ({round(opening[2] / opening[1] * 100)}% / {round(opening[3] / opening[1] * 100)}% / {round(opening[4] / opening[1] * 100)}%)\")"
   ]
  },
  {
   "cell_type": "markdown",
   "metadata": {},
   "source": [
    "### What is my success rate on openings I have played less than 20 times? "
   ]
  },
  {
   "cell_type": "code",
   "execution_count": 34,
   "metadata": {},
   "outputs": [
    {
     "name": "stdout",
     "output_type": "stream",
     "text": [
      "Sum of uncommon openings (<20 games):\n",
      "Total games: 546\n",
      "60.26% Wins / 3.48% Draws / 36.26% Losses\n"
     ]
    }
   ],
   "source": [
    "max_games = 20\n",
    "total_wins = 0\n",
    "total_games = 0\n",
    "total_draws = 0\n",
    "total_losses = 0\n",
    "for opening in w_zipped + b_zipped:\n",
    "    if opening[1] < max_games:\n",
    "        total_games += opening[1]\n",
    "        total_wins += opening[2]\n",
    "        total_draws += opening[3]\n",
    "        total_losses += opening[4]\n",
    "        \n",
    "print(f\"Sum of uncommon openings (<{max_games} games):\")\n",
    "print(f\"Total games: {total_games}\")\n",
    "print(f\"{round(total_wins / (total_games) * 100, 2)}% Wins / {round(total_draws / total_games * 100, 2)}% Draws / {round(total_losses / total_games * 100, 2)}% Losses\")"
   ]
  },
  {
   "cell_type": "markdown",
   "metadata": {},
   "source": [
    "### How much time do I spend on average on each move?"
   ]
  },
  {
   "cell_type": "code",
   "execution_count": 44,
   "metadata": {},
   "outputs": [],
   "source": [
    "# %H:%M:%S: -> seconds\n",
    "def get_total_seconds(stringHMS):\n",
    "   timedeltaObj = datetime.strptime(stringHMS, \"%H:%M:%S\") - datetime(1900,1,1)\n",
    "   return timedeltaObj.total_seconds()"
   ]
  },
  {
   "cell_type": "code",
   "execution_count": 45,
   "metadata": {},
   "outputs": [
    {
     "name": "stdout",
     "output_type": "stream",
     "text": [
      "600.0\n"
     ]
    }
   ],
   "source": [
    "print(get_total_seconds(df.iloc[100]['moves'][1]['white']['clock']))\n",
    "\n",
    "for game in "
   ]
  },
  {
   "cell_type": "code",
   "execution_count": null,
   "metadata": {},
   "outputs": [],
   "source": [
    "### How does my daily rating change on days I played a lot of games vs days i played few games?\n",
    "### How correlated is my weekly rating "
   ]
  },
  {
   "cell_type": "code",
   "execution_count": null,
   "metadata": {},
   "outputs": [],
   "source": [
    "### Do i win more games when I castle in the first 10 moves?\n",
    "### Does my opponenet lose more games if they have not castled by move 10"
   ]
  },
  {
   "cell_type": "code",
   "execution_count": null,
   "metadata": {},
   "outputs": [],
   "source": []
  },
  {
   "cell_type": "code",
   "execution_count": null,
   "metadata": {},
   "outputs": [],
   "source": [
    "# Track the number of puzzles done each day, and check correlation to games won.  I want to know if doing puzzles increases the changes of me winning games that day\n"
   ]
  },
  {
   "cell_type": "code",
   "execution_count": null,
   "metadata": {},
   "outputs": [],
   "source": []
  }
 ],
 "metadata": {
  "kernelspec": {
   "display_name": "Python 3 (ipykernel)",
   "language": "python",
   "name": "python3"
  },
  "language_info": {
   "codemirror_mode": {
    "name": "ipython",
    "version": 3
   },
   "file_extension": ".py",
   "mimetype": "text/x-python",
   "name": "python",
   "nbconvert_exporter": "python",
   "pygments_lexer": "ipython3",
   "version": "3.9.13"
  }
 },
 "nbformat": 4,
 "nbformat_minor": 4
}
