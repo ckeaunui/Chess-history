{
 "cells": [
  {
   "cell_type": "markdown",
   "metadata": {},
   "source": [
    "# Chess.com Data Analysis"
   ]
  },
  {
   "cell_type": "markdown",
   "metadata": {},
   "source": [
    "In February of 2021 at the height of Covid lockdowns, I started playing chess on Chess.com.  I had played as a kid and I knew how the pieces each moved, but other than that I had essentially no knowledge of the game.  With nothing better to do I started playing with my brothers and friends over FaceTime, and chess quickly became one of my favorite hobbies.  Today I am still a novice at the game, but one day I want to earn a FIDE master title.  In this project I will review my history of games on chess.com to disover which areas of my game need the most improvement.\n",
    "\n",
    "The highest ranked title a chess master can reach is 'Grandmaster' and is reached around 2500 elo after beating three players who already have the title in tournaments with strict rules.  Currently there are only around 2,000 people with the Grandmaster title and achieving that rank is nearly impossible, but the Candidate Master title only has a rating requirenment of 2,000+ fide elo. This seems much more attainable!  I have never played in a rated live game before so I am currently unranked, but many form posts on chess.com suggest fide ranks are around 200 points behind online ratings, so my fide elo should be around a 1450.  Gaining 550 elo is not an easy task and it will take years if I want to accomplish this goal, so I should start by improving the weakest parts of my game.  The questions I asked are designed to uncover my biggest flaws.\n",
    "\n",
    "Questions (rapid only, unless stated otherwise):\n",
    "1. How many games do I have for each time class?\n",
    "2. How has my rating changed over time for each time class?\n",
    "3. How succesful are my favorite openings? What about for 1500+ games?\n",
    "4. Do I perform worse on games with unorthodox openings?\n",
    "5. By what method do I win most of my games?\n",
    "6. By what method do I draw most of my games\n",
    "7. By what method do I lose most of my games?\n",
    "8. Where do I spend most of my time?\n",
    "9. How many moves do my games last?\n",
    "10. Does castling impact my success rate?\n",
    "\n",
    "All the data was taken from my profile through the the Chess.com api. For more information, go to https://www.chess.com/forum/view/community/chess-com-api"
   ]
  },
  {
   "cell_type": "markdown",
   "metadata": {},
   "source": [
    "## Install Packages"
   ]
  },
  {
   "cell_type": "code",
   "execution_count": 1,
   "metadata": {},
   "outputs": [
    {
     "name": "stdout",
     "output_type": "stream",
     "text": [
      "Requirement already satisfied: pandas in c:\\users\\ck\\appdata\\local\\packages\\pythonsoftwarefoundation.python.3.9_qbz5n2kfra8p0\\localcache\\local-packages\\python39\\site-packages (1.4.1)\n",
      "Requirement already satisfied: python-dateutil>=2.8.1 in c:\\users\\ck\\appdata\\local\\packages\\pythonsoftwarefoundation.python.3.9_qbz5n2kfra8p0\\localcache\\local-packages\\python39\\site-packages (from pandas) (2.8.2)\n",
      "Requirement already satisfied: pytz>=2020.1 in c:\\users\\ck\\appdata\\local\\packages\\pythonsoftwarefoundation.python.3.9_qbz5n2kfra8p0\\localcache\\local-packages\\python39\\site-packages (from pandas) (2021.3)\n",
      "Requirement already satisfied: numpy>=1.18.5 in c:\\users\\ck\\appdata\\local\\packages\\pythonsoftwarefoundation.python.3.9_qbz5n2kfra8p0\\localcache\\local-packages\\python39\\site-packages (from pandas) (1.22.2)\n",
      "Requirement already satisfied: six>=1.5 in c:\\users\\ck\\appdata\\local\\packages\\pythonsoftwarefoundation.python.3.9_qbz5n2kfra8p0\\localcache\\local-packages\\python39\\site-packages (from python-dateutil>=2.8.1->pandas) (1.16.0)\n"
     ]
    },
    {
     "name": "stderr",
     "output_type": "stream",
     "text": [
      "\n",
      "[notice] A new release of pip is available: 23.3.1 -> 23.3.2\n",
      "[notice] To update, run: C:\\Users\\ck\\AppData\\Local\\Microsoft\\WindowsApps\\PythonSoftwareFoundation.Python.3.9_qbz5n2kfra8p0\\python.exe -m pip install --upgrade pip\n"
     ]
    }
   ],
   "source": [
    "!pip install pandas\n",
    "# !pip install chess.com"
   ]
  },
  {
   "cell_type": "code",
   "execution_count": 2,
   "metadata": {},
   "outputs": [],
   "source": [
    "# from chessdotcom import get_player_profile\n",
    "import pandas as pd\n",
    "import matplotlib.pyplot as plt\n",
    "import numpy as np\n",
    "import requests\n",
    "from datetime import datetime\n",
    "import json\n",
    "from tqdm import tqdm\n",
    "import math\n",
    "from bs4 import BeautifulSoup \n",
    "import html5lib"
   ]
  },
  {
   "cell_type": "markdown",
   "metadata": {},
   "source": [
    "## Data Pre Processing"
   ]
  },
  {
   "cell_type": "code",
   "execution_count": 3,
   "metadata": {},
   "outputs": [],
   "source": [
    "username = 'Spicy_Chris'\n",
    "headers = {'User-Agent': 'Mozilla/5.0 (Macintosh; Intel Mac OS X 10_11_5) AppleWebKit/537.36 (KHTML, like Gecko) Chrome/50.0.2661.102 Safari/537.36'}\n",
    "pd.set_option('display.max_columns', None)"
   ]
  },
  {
   "cell_type": "markdown",
   "metadata": {},
   "source": [
    "#### Gather Data"
   ]
  },
  {
   "cell_type": "code",
   "execution_count": 4,
   "metadata": {},
   "outputs": [],
   "source": [
    "stats_url = f\"https://api.chess.com/pub/player/{username}/stats\"\n",
    "player_stats = requests.get(stats_url, headers=headers).json()"
   ]
  },
  {
   "cell_type": "code",
   "execution_count": 5,
   "metadata": {},
   "outputs": [
    {
     "name": "stderr",
     "output_type": "stream",
     "text": [
      "100%|████████████████████████████████████████████████████████████████████████████████████████████████████████████████| 35/35 [00:28<00:00,  1.23it/s]"
     ]
    },
    {
     "name": "stdout",
     "output_type": "stream",
     "text": [
      "Found 6378 Games\n"
     ]
    },
    {
     "name": "stderr",
     "output_type": "stream",
     "text": [
      "\n"
     ]
    }
   ],
   "source": [
    "# Get all games since creation date and save to pd dataframe\n",
    "all_games = []\n",
    "todays_date = datetime.now()\n",
    "monthly_data_urls = requests.get(f\"https://api.chess.com/pub/player/{username}/games/archives\", headers=headers).json()['archives']\n",
    "for url in tqdm(monthly_data_urls, position=0, leave=True):\n",
    "    games = requests.get(url, headers=headers).json()['games']        \n",
    "    all_games += games\n",
    "print(f\"Found {len(all_games)} Games\")"
   ]
  },
  {
   "cell_type": "code",
   "execution_count": 6,
   "metadata": {},
   "outputs": [
    {
     "data": {
      "text/html": [
       "<div>\n",
       "<style scoped>\n",
       "    .dataframe tbody tr th:only-of-type {\n",
       "        vertical-align: middle;\n",
       "    }\n",
       "\n",
       "    .dataframe tbody tr th {\n",
       "        vertical-align: top;\n",
       "    }\n",
       "\n",
       "    .dataframe thead th {\n",
       "        text-align: right;\n",
       "    }\n",
       "</style>\n",
       "<table border=\"1\" class=\"dataframe\">\n",
       "  <thead>\n",
       "    <tr style=\"text-align: right;\">\n",
       "      <th></th>\n",
       "      <th>url</th>\n",
       "      <th>pgn</th>\n",
       "      <th>time_control</th>\n",
       "      <th>end_time</th>\n",
       "      <th>rated</th>\n",
       "      <th>accuracies</th>\n",
       "      <th>tcn</th>\n",
       "      <th>uuid</th>\n",
       "      <th>initial_setup</th>\n",
       "      <th>fen</th>\n",
       "      <th>time_class</th>\n",
       "      <th>rules</th>\n",
       "      <th>white</th>\n",
       "      <th>black</th>\n",
       "      <th>tournament</th>\n",
       "      <th>start_time</th>\n",
       "    </tr>\n",
       "  </thead>\n",
       "  <tbody>\n",
       "    <tr>\n",
       "      <th>0</th>\n",
       "      <td>https://www.chess.com/game/live/8717136503</td>\n",
       "      <td>[Event \"Live Chess\"]\\n[Site \"Chess.com\"]\\n[Dat...</td>\n",
       "      <td>600</td>\n",
       "      <td>1614978232</td>\n",
       "      <td>True</td>\n",
       "      <td>{'white': 13.815347900907305, 'black': 49.7934...</td>\n",
       "      <td>gv0KmC5Qbs!TltZJcMJCtC9zMT7TfH8!eg2UpFQBsJBvov...</td>\n",
       "      <td>c5f9483e-7df5-11eb-bd8a-536974010001</td>\n",
       "      <td>rnbqkbnr/pppppppp/8/8/8/8/PPPPPPPP/RNBQKBNR w ...</td>\n",
       "      <td>2r2r2/pp4kp/2p3p1/1B2pp2/1b2P2Q/8/PPP2P2/R4RK1...</td>\n",
       "      <td>rapid</td>\n",
       "      <td>chess</td>\n",
       "      <td>{'rating': 981, 'result': 'win', '@id': 'https...</td>\n",
       "      <td>{'rating': 792, 'result': 'resigned', '@id': '...</td>\n",
       "      <td>NaN</td>\n",
       "      <td>NaN</td>\n",
       "    </tr>\n",
       "  </tbody>\n",
       "</table>\n",
       "</div>"
      ],
      "text/plain": [
       "                                          url  \\\n",
       "0  https://www.chess.com/game/live/8717136503   \n",
       "\n",
       "                                                 pgn time_control    end_time  \\\n",
       "0  [Event \"Live Chess\"]\\n[Site \"Chess.com\"]\\n[Dat...          600  1614978232   \n",
       "\n",
       "   rated                                         accuracies  \\\n",
       "0   True  {'white': 13.815347900907305, 'black': 49.7934...   \n",
       "\n",
       "                                                 tcn  \\\n",
       "0  gv0KmC5Qbs!TltZJcMJCtC9zMT7TfH8!eg2UpFQBsJBvov...   \n",
       "\n",
       "                                   uuid  \\\n",
       "0  c5f9483e-7df5-11eb-bd8a-536974010001   \n",
       "\n",
       "                                       initial_setup  \\\n",
       "0  rnbqkbnr/pppppppp/8/8/8/8/PPPPPPPP/RNBQKBNR w ...   \n",
       "\n",
       "                                                 fen time_class  rules  \\\n",
       "0  2r2r2/pp4kp/2p3p1/1B2pp2/1b2P2Q/8/PPP2P2/R4RK1...      rapid  chess   \n",
       "\n",
       "                                               white  \\\n",
       "0  {'rating': 981, 'result': 'win', '@id': 'https...   \n",
       "\n",
       "                                               black tournament  start_time  \n",
       "0  {'rating': 792, 'result': 'resigned', '@id': '...        NaN         NaN  "
      ]
     },
     "execution_count": 6,
     "metadata": {},
     "output_type": "execute_result"
    }
   ],
   "source": [
    "# Build df\n",
    "df = pd.DataFrame.from_dict(all_games, orient='columns')\n",
    "df.head(1)"
   ]
  },
  {
   "cell_type": "markdown",
   "metadata": {},
   "source": [
    "#### Clean Data"
   ]
  },
  {
   "cell_type": "code",
   "execution_count": 7,
   "metadata": {},
   "outputs": [],
   "source": [
    "# Remove non-traditional games (Fischer random, bughouse, chess960, ...)\n",
    "df = df.query(\"rules == 'chess'\")\n",
    "df = df.rename(columns={\"start_time\": \"start_time_utx\", \"end_time\": \"end_time_utx\"})"
   ]
  },
  {
   "cell_type": "code",
   "execution_count": 8,
   "metadata": {},
   "outputs": [],
   "source": [
    "# Pull the important information out of the pgn column and return it in a dict\n",
    "def pgn_to_dict(pgn) -> dict:\n",
    "    pgn_data = {}\n",
    "    idx_to_col = {\n",
    "        2: 'start_date',\n",
    "        6: 'result',\n",
    "        9: 'ECO',\n",
    "        16: 'termination',\n",
    "        17: 'start_time',\n",
    "        18: 'end_date',\n",
    "        19: 'end_time',\n",
    "        22: 'moves'\n",
    "    }\n",
    "    \n",
    "    for i, row in enumerate(pgn.split('\\n')):\n",
    "        if i in idx_to_col.keys():\n",
    "            if i == 22:\n",
    "                pgn_data[idx_to_col[i]] = row\n",
    "            else:\n",
    "                data = row.split(\"\\\"\")[1]\n",
    "                pgn_data[idx_to_col[i]] = data\n",
    "    return pgn_data"
   ]
  },
  {
   "cell_type": "code",
   "execution_count": 9,
   "metadata": {},
   "outputs": [],
   "source": [
    "# Turn the string of pgn moves into a json format\n",
    "def game_notation_to_json(moves):\n",
    "    moves_json = {}\n",
    "    for i, line in enumerate(moves.split(']} ')):\n",
    "        if i+1 == len(moves.split(']}')):\n",
    "            break\n",
    "            \n",
    "        w_or_b = 'white' if i % 2 == 0 else 'black'\n",
    "        move_no, move, clock = line.replace('{[%clk ', '').replace('..', '').replace('. ', ' ').split(' ')\n",
    "        move_no = int(move_no)\n",
    "        ply_data = {'move': move, 'clock': clock}\n",
    "                \n",
    "        if move_no not in moves_json.keys():\n",
    "            moves_json[move_no] = { 'white': {'move': None, 'clock': None},\n",
    "                                    'black': {'move': None, 'clock': None}, }\n",
    "                \n",
    "        moves_json[move_no][w_or_b] = ply_data\n",
    "    return moves_json"
   ]
  },
  {
   "cell_type": "code",
   "execution_count": 10,
   "metadata": {},
   "outputs": [],
   "source": [
    "# Web scrape openings and their eco codes\n",
    "eco_codes = {}\n",
    "eco_url = \"https://www.chessgames.com/chessecohelp.html\"\n",
    "eco_response = requests.get(eco_url, headers=headers)\n",
    "\n",
    "soup = BeautifulSoup(eco_response.content, \"html.parser\")\n",
    "for row in soup.find_all('tr'):\n",
    "    eco = row.find_all('td')[0].get_text()\n",
    "    opening_data = row.find_all('td')[1].get_text().split('\\n')\n",
    "    eco_codes[eco] = opening_data"
   ]
  },
  {
   "cell_type": "code",
   "execution_count": 11,
   "metadata": {},
   "outputs": [
    {
     "name": "stderr",
     "output_type": "stream",
     "text": [
      "6373it [00:05, 1236.52it/s]\n"
     ]
    }
   ],
   "source": [
    "# Expand all nested data data on one row\n",
    "for index, row in tqdm(df.iterrows(), position=0, leave=True):\n",
    "    # Expand accuracies column\n",
    "    w_accuracy = None\n",
    "    b_accuracy = None\n",
    "    \n",
    "    # If the game was analyzed, add accuracies\n",
    "    if type(row['accuracies']) != float:\n",
    "        w_accuracy = row['accuracies']['white']\n",
    "        b_accuracy = row['accuracies']['black']\n",
    "    \n",
    "    if row['white']['username'] == username:\n",
    "        df.at[index, 'my_accuracy'] = w_accuracy\n",
    "        df.at[index, 'my_rating'] = row['white']['rating']\n",
    "        df.at[index, 'my_result'] = row['white']['result']\n",
    "        df.at[index, 'my_username'] = row['white']['username']\n",
    "        df.at[index, 'my_color'] = 'white'\n",
    "\n",
    "        df.at[index, 'opponent_accuracy'] = b_accuracy\n",
    "        df.at[index, 'opponent_rating'] = row['black']['rating']\n",
    "        df.at[index, 'opponent_result'] = row['black']['result']\n",
    "        df.at[index, 'opponent_username'] = row['black']['username']\n",
    "        df.at[index, 'opponent_color'] = 'black'\n",
    "    \n",
    "    elif row['black']['username'] == username:\n",
    "        df.at[index, 'opponent_accuracy'] = w_accuracy\n",
    "        df.at[index, 'opponent_rating'] = row['white']['rating']\n",
    "        df.at[index, 'opponent_result'] = row['white']['result']\n",
    "        df.at[index, 'opponent_username'] = row['white']['username']\n",
    "        df.at[index, 'opponent_color'] = 'white'\n",
    "\n",
    "        df.at[index, 'my_accuracy'] = b_accuracy\n",
    "        df.at[index, 'my_rating'] = row['black']['rating']\n",
    "        df.at[index, 'my_result'] = row['black']['result']\n",
    "        df.at[index, 'my_username'] = row['black']['username']\n",
    "        df.at[index, 'my_color'] = 'black'\n",
    "    else:\n",
    "        print(f\"Username mismatch: {index}\")\n",
    "        continue\n",
    "    \n",
    "    # Expand pgn column\n",
    "    pgn_data = pgn_to_dict(row['pgn'])\n",
    "    for col_name, pgn_row in pgn_data.items():\n",
    "        df.at[index, col_name] = pgn_row\n",
    "    \n",
    "    # Expand moves column\n",
    "    moves_json = game_notation_to_json(pgn_data['moves'])\n",
    "    \n",
    "    # Check the game has move history\n",
    "    if len(moves_json) > 0:\n",
    "        df.at[index, 'moves'] = moves_json\n",
    "        df.at[index, 'opening'] = eco_codes[df.at[index, 'ECO']][0]\n",
    "        df.at[index, 'opening_moves'] = eco_codes[df.at[index, 'ECO']][1]\n",
    "        ply = int(len(moves_json) * 2 - 1) if moves_json[len(moves_json)]['black']['move'] == None else int(len(moves_json) * 2)\n",
    "        df.at[index, 'ply'] = int(ply)\n"
   ]
  },
  {
   "cell_type": "code",
   "execution_count": 12,
   "metadata": {},
   "outputs": [],
   "source": [
    "# Remove old / unwanted columns\n",
    "df = df.drop(columns=['accuracies', 'black', 'white', 'pgn', 'initial_setup'], axis=1)\n",
    "df = df.query(\"time_class != 'daily'\")"
   ]
  },
  {
   "cell_type": "code",
   "execution_count": 13,
   "metadata": {},
   "outputs": [
    {
     "data": {
      "text/html": [
       "<div>\n",
       "<style scoped>\n",
       "    .dataframe tbody tr th:only-of-type {\n",
       "        vertical-align: middle;\n",
       "    }\n",
       "\n",
       "    .dataframe tbody tr th {\n",
       "        vertical-align: top;\n",
       "    }\n",
       "\n",
       "    .dataframe thead th {\n",
       "        text-align: right;\n",
       "    }\n",
       "</style>\n",
       "<table border=\"1\" class=\"dataframe\">\n",
       "  <thead>\n",
       "    <tr style=\"text-align: right;\">\n",
       "      <th></th>\n",
       "      <th>url</th>\n",
       "      <th>time_control</th>\n",
       "      <th>end_time_utx</th>\n",
       "      <th>rated</th>\n",
       "      <th>tcn</th>\n",
       "      <th>uuid</th>\n",
       "      <th>fen</th>\n",
       "      <th>time_class</th>\n",
       "      <th>rules</th>\n",
       "      <th>tournament</th>\n",
       "      <th>start_time_utx</th>\n",
       "      <th>my_accuracy</th>\n",
       "      <th>my_rating</th>\n",
       "      <th>my_result</th>\n",
       "      <th>my_username</th>\n",
       "      <th>my_color</th>\n",
       "      <th>opponent_accuracy</th>\n",
       "      <th>opponent_rating</th>\n",
       "      <th>opponent_result</th>\n",
       "      <th>opponent_username</th>\n",
       "      <th>opponent_color</th>\n",
       "      <th>start_date</th>\n",
       "      <th>result</th>\n",
       "      <th>ECO</th>\n",
       "      <th>termination</th>\n",
       "      <th>start_time</th>\n",
       "      <th>end_date</th>\n",
       "      <th>end_time</th>\n",
       "      <th>moves</th>\n",
       "      <th>opening</th>\n",
       "      <th>opening_moves</th>\n",
       "      <th>ply</th>\n",
       "    </tr>\n",
       "  </thead>\n",
       "  <tbody>\n",
       "    <tr>\n",
       "      <th>0</th>\n",
       "      <td>https://www.chess.com/game/live/8717136503</td>\n",
       "      <td>600</td>\n",
       "      <td>1614978232</td>\n",
       "      <td>True</td>\n",
       "      <td>gv0KmC5Qbs!TltZJcMJCtC9zMT7TfH8!eg2UpFQBsJBvov...</td>\n",
       "      <td>c5f9483e-7df5-11eb-bd8a-536974010001</td>\n",
       "      <td>2r2r2/pp4kp/2p3p1/1B2pp2/1b2P2Q/8/PPP2P2/R4RK1...</td>\n",
       "      <td>rapid</td>\n",
       "      <td>chess</td>\n",
       "      <td>NaN</td>\n",
       "      <td>NaN</td>\n",
       "      <td>13.815348</td>\n",
       "      <td>981.0</td>\n",
       "      <td>win</td>\n",
       "      <td>Spicy_Chris</td>\n",
       "      <td>white</td>\n",
       "      <td>49.793494</td>\n",
       "      <td>792.0</td>\n",
       "      <td>resigned</td>\n",
       "      <td>rigbl</td>\n",
       "      <td>black</td>\n",
       "      <td>2021.03.05</td>\n",
       "      <td>1-0</td>\n",
       "      <td>C40</td>\n",
       "      <td>Spicy_Chris won by resignation</td>\n",
       "      <td>21:00:09</td>\n",
       "      <td>2021.03.05</td>\n",
       "      <td>21:03:52</td>\n",
       "      <td>{1: {'white': {'move': 'Nf3', 'clock': '0:10:0...</td>\n",
       "      <td>King's Knight Opening</td>\n",
       "      <td>1 e4 e5 2 Nf3</td>\n",
       "      <td>40.0</td>\n",
       "    </tr>\n",
       "    <tr>\n",
       "      <th>1</th>\n",
       "      <td>https://www.chess.com/game/live/8717206583</td>\n",
       "      <td>600</td>\n",
       "      <td>1614978702</td>\n",
       "      <td>True</td>\n",
       "      <td>mC5Qbs0KfH9Igv2MvM7MltMohfInfnonenZRsJ45ne3NkA...</td>\n",
       "      <td>4d83ec20-7df6-11eb-bd8a-536974010001</td>\n",
       "      <td>3Q4/2p2p2/p1ppk3/4p1rp/2P1P1b1/3P4/PP5P/R3K3 w...</td>\n",
       "      <td>rapid</td>\n",
       "      <td>chess</td>\n",
       "      <td>NaN</td>\n",
       "      <td>NaN</td>\n",
       "      <td>NaN</td>\n",
       "      <td>865.0</td>\n",
       "      <td>resigned</td>\n",
       "      <td>Spicy_Chris</td>\n",
       "      <td>black</td>\n",
       "      <td>NaN</td>\n",
       "      <td>1015.0</td>\n",
       "      <td>win</td>\n",
       "      <td>Shelykoopa</td>\n",
       "      <td>white</td>\n",
       "      <td>2021.03.05</td>\n",
       "      <td>1-0</td>\n",
       "      <td>C25</td>\n",
       "      <td>Shelykoopa won by resignation</td>\n",
       "      <td>21:03:58</td>\n",
       "      <td>2021.03.05</td>\n",
       "      <td>21:11:42</td>\n",
       "      <td>{1: {'white': {'move': 'e4', 'clock': '0:09:58...</td>\n",
       "      <td>Vienna</td>\n",
       "      <td>1 e4 e5 2 Nc3</td>\n",
       "      <td>42.0</td>\n",
       "    </tr>\n",
       "    <tr>\n",
       "      <th>2</th>\n",
       "      <td>https://www.chess.com/game/live/8717765217</td>\n",
       "      <td>600</td>\n",
       "      <td>1614979745</td>\n",
       "      <td>True</td>\n",
       "      <td>gvZJbs!Tmu0SfHYQHt9ziqzsls8!vK5ZnDQItHWOHZ6Zeg...</td>\n",
       "      <td>63aeb534-7df7-11eb-bd8a-536974010001</td>\n",
       "      <td>1Q4k1/8/p3p1K1/1P1pPrp1/8/2P1P3/2P5/R1B4r b - -</td>\n",
       "      <td>rapid</td>\n",
       "      <td>chess</td>\n",
       "      <td>NaN</td>\n",
       "      <td>NaN</td>\n",
       "      <td>30.849567</td>\n",
       "      <td>956.0</td>\n",
       "      <td>win</td>\n",
       "      <td>Spicy_Chris</td>\n",
       "      <td>white</td>\n",
       "      <td>38.304636</td>\n",
       "      <td>817.0</td>\n",
       "      <td>timeout</td>\n",
       "      <td>josiefa</td>\n",
       "      <td>black</td>\n",
       "      <td>2021.03.05</td>\n",
       "      <td>1-0</td>\n",
       "      <td>A06</td>\n",
       "      <td>Spicy_Chris won on time</td>\n",
       "      <td>21:11:41</td>\n",
       "      <td>2021.03.05</td>\n",
       "      <td>21:29:05</td>\n",
       "      <td>{1: {'white': {'move': 'Nf3', 'clock': '0:10:0...</td>\n",
       "      <td>Reti Opening</td>\n",
       "      <td>1 Nf3 d5</td>\n",
       "      <td>75.0</td>\n",
       "    </tr>\n",
       "    <tr>\n",
       "      <th>3</th>\n",
       "      <td>https://www.chess.com/game/live/8932634011</td>\n",
       "      <td>300</td>\n",
       "      <td>1615194322</td>\n",
       "      <td>True</td>\n",
       "      <td>mC5QgvZJCJ7JbsJSfmXPvMSLlB0KmA6SBJ3VMvKCvFLEJS...</td>\n",
       "      <td>3a105422-7fec-11eb-968e-536974010001</td>\n",
       "      <td>4Q3/pkp1R3/1pn3rB/8/8/1P6/P1P2PqP/5RK1 w - -</td>\n",
       "      <td>blitz</td>\n",
       "      <td>chess</td>\n",
       "      <td>NaN</td>\n",
       "      <td>NaN</td>\n",
       "      <td>14.971387</td>\n",
       "      <td>965.0</td>\n",
       "      <td>win</td>\n",
       "      <td>Spicy_Chris</td>\n",
       "      <td>black</td>\n",
       "      <td>34.754114</td>\n",
       "      <td>767.0</td>\n",
       "      <td>checkmated</td>\n",
       "      <td>liptondavid</td>\n",
       "      <td>white</td>\n",
       "      <td>2021.03.08</td>\n",
       "      <td>0-1</td>\n",
       "      <td>B00</td>\n",
       "      <td>Spicy_Chris won by checkmate</td>\n",
       "      <td>08:56:53</td>\n",
       "      <td>2021.03.08</td>\n",
       "      <td>09:05:22</td>\n",
       "      <td>{1: {'white': {'move': 'e4', 'clock': '0:05:00...</td>\n",
       "      <td>Uncommon King's Pawn Opening</td>\n",
       "      <td>1 e4</td>\n",
       "      <td>56.0</td>\n",
       "    </tr>\n",
       "    <tr>\n",
       "      <th>4</th>\n",
       "      <td>https://www.chess.com/game/live/8933228327</td>\n",
       "      <td>600</td>\n",
       "      <td>1615194896</td>\n",
       "      <td>True</td>\n",
       "      <td>gvYImuZJks2UfH6ZdyWOvK!THZTZKZ5ZlBIAjzXHyGZPnv...</td>\n",
       "      <td>886020b1-7fed-11eb-968e-536974010001</td>\n",
       "      <td>4kR1r/r3p2p/p5p1/4q1B1/1Pp1p3/2n5/P5PP/R3K3 b ...</td>\n",
       "      <td>rapid</td>\n",
       "      <td>chess</td>\n",
       "      <td>NaN</td>\n",
       "      <td>NaN</td>\n",
       "      <td>NaN</td>\n",
       "      <td>864.0</td>\n",
       "      <td>resigned</td>\n",
       "      <td>Spicy_Chris</td>\n",
       "      <td>white</td>\n",
       "      <td>NaN</td>\n",
       "      <td>901.0</td>\n",
       "      <td>win</td>\n",
       "      <td>DanieloLeFicelo</td>\n",
       "      <td>black</td>\n",
       "      <td>2021.03.08</td>\n",
       "      <td>0-1</td>\n",
       "      <td>A04</td>\n",
       "      <td>DanieloLeFicelo won by resignation</td>\n",
       "      <td>09:06:17</td>\n",
       "      <td>2021.03.08</td>\n",
       "      <td>09:14:56</td>\n",
       "      <td>{1: {'white': {'move': 'Nf3', 'clock': '0:10:0...</td>\n",
       "      <td>Reti Opening</td>\n",
       "      <td>1 Nf3</td>\n",
       "      <td>41.0</td>\n",
       "    </tr>\n",
       "  </tbody>\n",
       "</table>\n",
       "</div>"
      ],
      "text/plain": [
       "                                          url time_control  end_time_utx  \\\n",
       "0  https://www.chess.com/game/live/8717136503          600    1614978232   \n",
       "1  https://www.chess.com/game/live/8717206583          600    1614978702   \n",
       "2  https://www.chess.com/game/live/8717765217          600    1614979745   \n",
       "3  https://www.chess.com/game/live/8932634011          300    1615194322   \n",
       "4  https://www.chess.com/game/live/8933228327          600    1615194896   \n",
       "\n",
       "   rated                                                tcn  \\\n",
       "0   True  gv0KmC5Qbs!TltZJcMJCtC9zMT7TfH8!eg2UpFQBsJBvov...   \n",
       "1   True  mC5Qbs0KfH9Igv2MvM7MltMohfInfnonenZRsJ45ne3NkA...   \n",
       "2   True  gvZJbs!Tmu0SfHYQHt9ziqzsls8!vK5ZnDQItHWOHZ6Zeg...   \n",
       "3   True  mC5QgvZJCJ7JbsJSfmXPvMSLlB0KmA6SBJ3VMvKCvFLEJS...   \n",
       "4   True  gvYImuZJks2UfH6ZdyWOvK!THZTZKZ5ZlBIAjzXHyGZPnv...   \n",
       "\n",
       "                                   uuid  \\\n",
       "0  c5f9483e-7df5-11eb-bd8a-536974010001   \n",
       "1  4d83ec20-7df6-11eb-bd8a-536974010001   \n",
       "2  63aeb534-7df7-11eb-bd8a-536974010001   \n",
       "3  3a105422-7fec-11eb-968e-536974010001   \n",
       "4  886020b1-7fed-11eb-968e-536974010001   \n",
       "\n",
       "                                                 fen time_class  rules  \\\n",
       "0  2r2r2/pp4kp/2p3p1/1B2pp2/1b2P2Q/8/PPP2P2/R4RK1...      rapid  chess   \n",
       "1  3Q4/2p2p2/p1ppk3/4p1rp/2P1P1b1/3P4/PP5P/R3K3 w...      rapid  chess   \n",
       "2    1Q4k1/8/p3p1K1/1P1pPrp1/8/2P1P3/2P5/R1B4r b - -      rapid  chess   \n",
       "3       4Q3/pkp1R3/1pn3rB/8/8/1P6/P1P2PqP/5RK1 w - -      blitz  chess   \n",
       "4  4kR1r/r3p2p/p5p1/4q1B1/1Pp1p3/2n5/P5PP/R3K3 b ...      rapid  chess   \n",
       "\n",
       "  tournament  start_time_utx  my_accuracy  my_rating my_result  my_username  \\\n",
       "0        NaN             NaN    13.815348      981.0       win  Spicy_Chris   \n",
       "1        NaN             NaN          NaN      865.0  resigned  Spicy_Chris   \n",
       "2        NaN             NaN    30.849567      956.0       win  Spicy_Chris   \n",
       "3        NaN             NaN    14.971387      965.0       win  Spicy_Chris   \n",
       "4        NaN             NaN          NaN      864.0  resigned  Spicy_Chris   \n",
       "\n",
       "  my_color  opponent_accuracy  opponent_rating opponent_result  \\\n",
       "0    white          49.793494            792.0        resigned   \n",
       "1    black                NaN           1015.0             win   \n",
       "2    white          38.304636            817.0         timeout   \n",
       "3    black          34.754114            767.0      checkmated   \n",
       "4    white                NaN            901.0             win   \n",
       "\n",
       "  opponent_username opponent_color  start_date result  ECO  \\\n",
       "0             rigbl          black  2021.03.05    1-0  C40   \n",
       "1        Shelykoopa          white  2021.03.05    1-0  C25   \n",
       "2           josiefa          black  2021.03.05    1-0  A06   \n",
       "3       liptondavid          white  2021.03.08    0-1  B00   \n",
       "4   DanieloLeFicelo          black  2021.03.08    0-1  A04   \n",
       "\n",
       "                          termination start_time    end_date  end_time  \\\n",
       "0      Spicy_Chris won by resignation   21:00:09  2021.03.05  21:03:52   \n",
       "1       Shelykoopa won by resignation   21:03:58  2021.03.05  21:11:42   \n",
       "2             Spicy_Chris won on time   21:11:41  2021.03.05  21:29:05   \n",
       "3        Spicy_Chris won by checkmate   08:56:53  2021.03.08  09:05:22   \n",
       "4  DanieloLeFicelo won by resignation   09:06:17  2021.03.08  09:14:56   \n",
       "\n",
       "                                               moves  \\\n",
       "0  {1: {'white': {'move': 'Nf3', 'clock': '0:10:0...   \n",
       "1  {1: {'white': {'move': 'e4', 'clock': '0:09:58...   \n",
       "2  {1: {'white': {'move': 'Nf3', 'clock': '0:10:0...   \n",
       "3  {1: {'white': {'move': 'e4', 'clock': '0:05:00...   \n",
       "4  {1: {'white': {'move': 'Nf3', 'clock': '0:10:0...   \n",
       "\n",
       "                        opening  opening_moves   ply  \n",
       "0         King's Knight Opening  1 e4 e5 2 Nf3  40.0  \n",
       "1                        Vienna  1 e4 e5 2 Nc3  42.0  \n",
       "2                  Reti Opening       1 Nf3 d5  75.0  \n",
       "3  Uncommon King's Pawn Opening           1 e4  56.0  \n",
       "4                  Reti Opening          1 Nf3  41.0  "
      ]
     },
     "execution_count": 13,
     "metadata": {},
     "output_type": "execute_result"
    }
   ],
   "source": [
    "# Order by date\n",
    "df.sort_values('end_time_utx')\n",
    "df.head()"
   ]
  },
  {
   "cell_type": "markdown",
   "metadata": {},
   "source": [
    "## Analysis"
   ]
  },
  {
   "cell_type": "code",
   "execution_count": 14,
   "metadata": {},
   "outputs": [
    {
     "name": "stdout",
     "output_type": "stream",
     "text": [
      "Account creation date:  2021-02-28 04:46:42\n"
     ]
    }
   ],
   "source": [
    "profile_url = f\"https://api.chess.com/pub/player/{username}\"\n",
    "profile_data = requests.get(profile_url, headers=headers).json()\n",
    "join_date_utx = profile_data['joined']\n",
    "join_date = datetime.fromtimestamp(join_date_utx)\n",
    "print(\"Account creation date: \", join_date)"
   ]
  },
  {
   "cell_type": "code",
   "execution_count": 15,
   "metadata": {},
   "outputs": [],
   "source": [
    "win_conditions = ['win']\n",
    "draw_conditions = ['stalemate', 'agreed', 'insufficient', 'repetition', '50move', 'timevsinsufficient']\n",
    "loss_conditions = ['resigned', 'abandoned', 'timeout', 'checkmated']"
   ]
  },
  {
   "cell_type": "markdown",
   "metadata": {},
   "source": [
    "### 1. How many games do I have for each time class?"
   ]
  },
  {
   "cell_type": "code",
   "execution_count": 16,
   "metadata": {},
   "outputs": [
    {
     "data": {
      "image/png": "[encoded data removed]",
      "text/plain": [
       "<Figure size 432x288 with 1 Axes>"
      ]
     },
     "metadata": {
      "needs_background": "light"
     },
     "output_type": "display_data"
    }
   ],
   "source": [
    "x = []\n",
    "labels = []\n",
    "for time_class in df['time_class'].unique():\n",
    "    query_result = df.query(f\"time_class == '{time_class}'\")\n",
    "    x.append(len(query_result))\n",
    "    labels.append(time_class)\n",
    "\n",
    "plt.bar(labels, x)\n",
    "plt.xlabel('Time Class')\n",
    "plt.ylabel('# of Games')\n",
    "plt.title('All Games')\n",
    "plt.show()"
   ]
  },
  {
   "cell_type": "markdown",
   "metadata": {},
   "source": [
    "### 2. How has my rating changed over time for each time class?"
   ]
  },
  {
   "cell_type": "code",
   "execution_count": 17,
   "metadata": {
    "scrolled": true
   },
   "outputs": [
    {
     "data": {
      "image/png": "[encoded data removed]",
      "text/plain": [
       "<Figure size 432x288 with 1 Axes>"
      ]
     },
     "metadata": {
      "needs_background": "light"
     },
     "output_type": "display_data"
    }
   ],
   "source": [
    "time_class_query = lambda time_class: f\"time_class == '{time_class}'\"\n",
    "time_classes = {'chess_bullet': 'bullet', 'chess_blitz': 'blitz', 'chess_rapid': 'rapid'}\n",
    "\n",
    "for k, v in time_classes.items():\n",
    "    games = df.query(time_class_query(v))\n",
    "    games.head()\n",
    "    games.sort_values('end_time_utx')\n",
    "    ratings = []\n",
    "    dates = []\n",
    "    \n",
    "    for idx, game in games.iterrows():\n",
    "        rating = game['my_rating']\n",
    "        date = game['end_time_utx']\n",
    "        ratings.append(rating)\n",
    "        dates.append(date)\n",
    "        \n",
    "    plt.plot(dates, ratings, label=v)\n",
    "\n",
    "    \n",
    "plt.legend(loc=\"upper left\")\n",
    "plt.xlabel('Date')\n",
    "plt.ylabel('ELO')\n",
    "plt.title('Rating Changes')\n",
    "plt.show()"
   ]
  },
  {
   "cell_type": "markdown",
   "metadata": {},
   "source": [
    "### 3. How  succesful are my favorite openings? What about for 1500+ games?"
   ]
  },
  {
   "cell_type": "code",
   "execution_count": 18,
   "metadata": {},
   "outputs": [],
   "source": [
    "# Note: From this point on all questions are focused only on rapid games\n",
    "df_rapid = df.query(\"time_class == 'rapid'\")"
   ]
  },
  {
   "cell_type": "code",
   "execution_count": 19,
   "metadata": {},
   "outputs": [],
   "source": [
    "games_won = df_rapid.query(f\"my_result in {win_conditions}\")\n",
    "games_drawn = df_rapid.query(f\"my_result in {draw_conditions}\")\n",
    "games_lost = df_rapid.query(f\"my_result in {loss_conditions}\")"
   ]
  },
  {
   "cell_type": "code",
   "execution_count": 20,
   "metadata": {},
   "outputs": [],
   "source": [
    "def get_opening_success_rates(color, dataset):\n",
    "    wins = []\n",
    "    draws = []\n",
    "    losses = []\n",
    "    labels = []\n",
    "    totals = []\n",
    "    color_games = dataset.query(f\"my_color == '{color}'\")\n",
    "    \n",
    "    if len(color_games) == 0:\n",
    "        return []\n",
    "    \n",
    "    for opening in color_games['opening'].unique():\n",
    "        opening_games = color_games.query(f\"opening == \\\"{opening}\\\"\")\n",
    "        wins.append(len(opening_games.query(f\"my_result in {win_conditions}\")))\n",
    "        draws.append(len(opening_games.query(f\"my_result in {draw_conditions}\")))\n",
    "        losses.append(len(opening_games.query(f\"my_result in {loss_conditions}\")))\n",
    "        labels.append(opening)\n",
    "        totals.append(len(opening_games))\n",
    "    return sorted(zip(labels, totals, wins, draws, losses), key=lambda x: x[1], reverse=True)"
   ]
  },
  {
   "cell_type": "markdown",
   "metadata": {},
   "source": [
    "#### White games"
   ]
  },
  {
   "cell_type": "code",
   "execution_count": 21,
   "metadata": {},
   "outputs": [],
   "source": [
    "w_zipped = get_opening_success_rates('white', df_rapid)\n",
    "w_labels = [label[0] for label in w_zipped[:10]]\n",
    "opening_wins = [round(label[2] / (label[2] + label[3] + label[4]), 3) for label in w_zipped[:10]]\n",
    "opening_draws = [round(label[3] / (label[2] + label[3] + label[4]), 3) for label in w_zipped[:10]]\n",
    "opening_losses = [round(label[4] / (label[2] + label[3] + label[4]), 3) for label in w_zipped[:10]]"
   ]
  },
  {
   "cell_type": "code",
   "execution_count": 22,
   "metadata": {},
   "outputs": [
    {
     "name": "stdout",
     "output_type": "stream",
     "text": [
      "Queen's Pawn Game -- 390 W / 30 D / 346 L (51% / 4% / 45%)\n",
      "Queen's Gambit Declined -- 321 W / 25 D / 256 L (53% / 4% / 43%)\n",
      "Queen's Gambit Accepted -- 183 W / 12 D / 129 L (56% / 4% / 40%)\n",
      "Queen's Gambit Declined Slav -- 126 W / 7 D / 87 L (57% / 3% / 40%)\n",
      "King's Indian -- 51 W / 6 D / 43 L (51% / 6% / 43%)\n",
      "Queen's Gambit Declined, Albin Counter Gambit -- 41 W / 1 D / 40 L (50% / 1% / 49%)\n",
      "Queen's Pawn Game (with ...d6) -- 33 W / 3 D / 25 L (54% / 5% / 41%)\n",
      "Old Indian -- 31 W / 5 D / 18 L (57% / 9% / 33%)\n",
      "Dutch -- 31 W / 2 D / 18 L (61% / 4% / 35%)\n",
      "Old Benoni -- 14 W / 3 D / 26 L (33% / 7% / 60%)\n"
     ]
    }
   ],
   "source": [
    "for opening in w_zipped[:10]:\n",
    "    print(f\"{opening[0]} -- {opening[2]} W / {opening[3]} D / {opening[4]} L ({round(opening[2] / opening[1] * 100)}% / {round(opening[3] / opening[1] * 100)}% / {round(opening[4] / opening[1] * 100)}%)\")"
   ]
  },
  {
   "cell_type": "code",
   "execution_count": 23,
   "metadata": {},
   "outputs": [
    {
     "data": {
      "image/png": "[encoded data removed]",
      "text/plain": [
       "<Figure size 432x288 with 1 Axes>"
      ]
     },
     "metadata": {
      "needs_background": "light"
     },
     "output_type": "display_data"
    }
   ],
   "source": [
    "plt.bar(w_labels, opening_wins, color='green')\n",
    "plt.bar(w_labels, opening_draws, bottom=opening_wins, color='gray')\n",
    "plt.bar(w_labels, opening_losses, bottom=np.add(opening_wins, opening_draws), color='red')\n",
    "plt.xlabel('Opening')\n",
    "plt.ylabel('# of games')\n",
    "plt.title('Most Played White Openings Success Rate')\n",
    "plt.xticks(rotation=90)\n",
    "plt.show()"
   ]
  },
  {
   "cell_type": "markdown",
   "metadata": {},
   "source": [
    "#### White games > 1500"
   ]
  },
  {
   "cell_type": "code",
   "execution_count": 24,
   "metadata": {},
   "outputs": [],
   "source": [
    "games_over_1500 = df_rapid.query(\"opponent_rating >= 1500\")"
   ]
  },
  {
   "cell_type": "code",
   "execution_count": 25,
   "metadata": {},
   "outputs": [],
   "source": [
    "w_zipped_1500 = get_opening_success_rates('white', games_over_1500)\n",
    "w_labels_1500 = [label[0] for label in w_zipped_1500[:10]]\n",
    "w_opening_wins_1500 = [round(label[2] / (label[2] + label[3] + label[4]), 3) for label in w_zipped_1500[:10]]\n",
    "w_opening_draws_1500 = [round(label[3] / (label[2] + label[3] + label[4]), 3) for label in w_zipped_1500[:10]]\n",
    "w_opening_losses_1500 = [round(label[4] / (label[2] + label[3] + label[4]), 3) for label in w_zipped_1500[:10]]"
   ]
  },
  {
   "cell_type": "code",
   "execution_count": 26,
   "metadata": {},
   "outputs": [
    {
     "name": "stdout",
     "output_type": "stream",
     "text": [
      "Queen's Pawn Game -- 390 W / 30 D / 346 L (51% / 4% / 45%)\n",
      "Queen's Gambit Declined -- 321 W / 25 D / 256 L (53% / 4% / 43%)\n",
      "Queen's Gambit Accepted -- 183 W / 12 D / 129 L (56% / 4% / 40%)\n",
      "Queen's Gambit Declined Slav -- 126 W / 7 D / 87 L (57% / 3% / 40%)\n",
      "King's Indian -- 51 W / 6 D / 43 L (51% / 6% / 43%)\n",
      "Queen's Gambit Declined, Albin Counter Gambit -- 41 W / 1 D / 40 L (50% / 1% / 49%)\n",
      "Queen's Pawn Game (with ...d6) -- 33 W / 3 D / 25 L (54% / 5% / 41%)\n",
      "Old Indian -- 31 W / 5 D / 18 L (57% / 9% / 33%)\n",
      "Dutch -- 31 W / 2 D / 18 L (61% / 4% / 35%)\n",
      "Old Benoni -- 14 W / 3 D / 26 L (33% / 7% / 60%)\n"
     ]
    }
   ],
   "source": [
    "for opening in w_zipped[:10]:\n",
    "    print(f\"{opening[0]} -- {opening[2]} W / {opening[3]} D / {opening[4]} L ({round(opening[2] / opening[1] * 100)}% / {round(opening[3] / opening[1] * 100)}% / {round(opening[4] / opening[1] * 100)}%)\")"
   ]
  },
  {
   "cell_type": "code",
   "execution_count": 27,
   "metadata": {},
   "outputs": [
    {
     "data": {
      "image/png": "[encoded data removed]",
      "text/plain": [
       "<Figure size 432x288 with 1 Axes>"
      ]
     },
     "metadata": {
      "needs_background": "light"
     },
     "output_type": "display_data"
    }
   ],
   "source": [
    "plt.bar(w_labels_1500, w_opening_wins_1500, color='green')\n",
    "plt.bar(w_labels_1500, w_opening_draws_1500, bottom=w_opening_wins_1500, color='gray')\n",
    "plt.bar(w_labels_1500, w_opening_losses_1500, bottom=np.add(w_opening_wins_1500, w_opening_draws_1500), color='red')\n",
    "plt.xlabel('Opening')\n",
    "plt.ylabel('# of games')\n",
    "plt.title('Most Played White Openings Success Rate Over 1500')\n",
    "plt.xticks(rotation=90)\n",
    "plt.show()"
   ]
  },
  {
   "cell_type": "markdown",
   "metadata": {},
   "source": [
    "#### Black games"
   ]
  },
  {
   "cell_type": "code",
   "execution_count": 28,
   "metadata": {},
   "outputs": [],
   "source": [
    "b_zipped = get_opening_success_rates('black', df_rapid)\n",
    "b_labels = [label[0] for label in b_zipped[:10]]\n",
    "b_opening_wins = [round(label[2] / (label[2] + label[3] + label[4]), 3)  for label in b_zipped[:10]]\n",
    "b_opening_draws = [round(label[3] / (label[2] + label[3] + label[4]), 3) for label in b_zipped[:10]]\n",
    "b_opening_losses = [round(label[4] / (label[2] + label[3] + label[4]), 3) for label in b_zipped[:10]]"
   ]
  },
  {
   "cell_type": "code",
   "execution_count": 29,
   "metadata": {},
   "outputs": [
    {
     "name": "stdout",
     "output_type": "stream",
     "text": [
      "Sicilian -- 266 W / 23 D / 249 L (49% / 4% / 46%)\n",
      "Queen's Pawn Game -- 221 W / 21 D / 235 L (46% / 4% / 49%)\n",
      "Giuoco Piano -- 79 W / 6 D / 71 L (51% / 4% / 46%)\n",
      "Robatsch -- 59 W / 2 D / 60 L (49% / 2% / 50%)\n",
      "Sicilian, Closed -- 56 W / 4 D / 41 L (55% / 4% / 41%)\n",
      "Sicilian, 2.f4 and 2.d4 -- 42 W / 8 D / 46 L (44% / 8% / 48%)\n",
      "Sicilian, Alapin -- 35 W / 6 D / 49 L (39% / 7% / 54%)\n",
      "Uncommon Opening -- 48 W / 6 D / 35 L (54% / 7% / 39%)\n",
      "Scandinavian -- 39 W / 2 D / 42 L (47% / 2% / 51%)\n",
      "Petrov Defense -- 23 W / 5 D / 29 L (40% / 9% / 51%)\n"
     ]
    }
   ],
   "source": [
    "for opening in b_zipped[:10]:\n",
    "    print(f\"{opening[0]} -- {opening[2]} W / {opening[3]} D / {opening[4]} L ({round(opening[2] / opening[1] * 100)}% / {round(opening[3] / opening[1] * 100)}% / {round(opening[4] / opening[1] * 100)}%)\")"
   ]
  },
  {
   "cell_type": "code",
   "execution_count": 30,
   "metadata": {},
   "outputs": [
    {
     "data": {
      "image/png": "[encoded data removed]",
      "text/plain": [
       "<Figure size 432x288 with 1 Axes>"
      ]
     },
     "metadata": {
      "needs_background": "light"
     },
     "output_type": "display_data"
    }
   ],
   "source": [
    "plt.bar(b_labels, b_opening_wins, color='green')\n",
    "plt.bar(b_labels, b_opening_draws, bottom=b_opening_wins, color='gray')\n",
    "plt.bar(b_labels, b_opening_losses, bottom=np.add(b_opening_wins, b_opening_draws), color='red')\n",
    "plt.xlabel('Opening')\n",
    "plt.ylabel('# of games')\n",
    "plt.title('Most Played Black Openings Success Rate')\n",
    "plt.xticks(rotation=90)\n",
    "plt.show()"
   ]
  },
  {
   "cell_type": "markdown",
   "metadata": {},
   "source": [
    "#### Black games > 1500"
   ]
  },
  {
   "cell_type": "code",
   "execution_count": 31,
   "metadata": {},
   "outputs": [],
   "source": [
    "b_zipped_1500 = get_opening_success_rates('black', games_over_1500)\n",
    "b_labels_1500 = [label[0] for label in b_zipped_1500[:10]]\n",
    "b_opening_wins_1500 = [round(label[2] / (label[2] + label[3] + label[4]), 3) for label in b_zipped_1500[:10]]\n",
    "b_opening_draws_1500 = [round(label[3] / (label[2] + label[3] + label[4]), 3) for label in b_zipped_1500[:10]]\n",
    "b_opening_losses_1500 = [round(label[4] / (label[2] + label[3] + label[4]), 3) for label in b_zipped_1500[:10]]"
   ]
  },
  {
   "cell_type": "code",
   "execution_count": 32,
   "metadata": {},
   "outputs": [
    {
     "name": "stdout",
     "output_type": "stream",
     "text": [
      "Giuoco Piano -- 40 W / 4 D / 40 L (48% / 5% / 48%)\n",
      "Queen's Pawn Game -- 17 W / 2 D / 35 L (31% / 4% / 65%)\n",
      "Scotch Game -- 3 W / 2 D / 14 L (16% / 11% / 74%)\n",
      "King's Pawn Game -- 12 W / 0 D / 6 L (67% / 0% / 33%)\n",
      "Vienna -- 8 W / 0 D / 8 L (50% / 0% / 50%)\n",
      "King's Indian -- 6 W / 1 D / 9 L (38% / 6% / 56%)\n",
      "King's Gambit Declined -- 4 W / 1 D / 11 L (25% / 6% / 69%)\n",
      "Bishop's Opening -- 2 W / 1 D / 9 L (17% / 8% / 75%)\n",
      "Three Knights -- 4 W / 1 D / 6 L (36% / 9% / 55%)\n",
      "Ruy Lopez -- 3 W / 0 D / 7 L (30% / 0% / 70%)\n"
     ]
    }
   ],
   "source": [
    "for opening in b_zipped_1500[:10]:\n",
    "    print(f\"{opening[0]} -- {opening[2]} W / {opening[3]} D / {opening[4]} L ({round(opening[2] / opening[1] * 100)}% / {round(opening[3] / opening[1] * 100)}% / {round(opening[4] / opening[1] * 100)}%)\")"
   ]
  },
  {
   "cell_type": "code",
   "execution_count": 33,
   "metadata": {},
   "outputs": [
    {
     "data": {
      "image/png": "[encoded data removed]",
      "text/plain": [
       "<Figure size 432x288 with 1 Axes>"
      ]
     },
     "metadata": {
      "needs_background": "light"
     },
     "output_type": "display_data"
    }
   ],
   "source": [
    "plt.bar(b_labels_1500, b_opening_wins_1500, color='green')\n",
    "plt.bar(b_labels_1500, b_opening_draws_1500, bottom=b_opening_wins_1500, color='gray')\n",
    "plt.bar(b_labels_1500, b_opening_losses_1500, bottom=np.add(b_opening_wins_1500, b_opening_draws_1500), color='red')\n",
    "plt.xlabel('Opening')\n",
    "plt.ylabel('# of games')\n",
    "plt.title('Most Played Black Openings Success Rate Over 1500')\n",
    "plt.xticks(rotation=90)\n",
    "plt.show()"
   ]
  },
  {
   "cell_type": "markdown",
   "metadata": {},
   "source": [
    "###  4. Do I perform worse on games with unorthodox openings?"
   ]
  },
  {
   "cell_type": "code",
   "execution_count": 34,
   "metadata": {},
   "outputs": [
    {
     "name": "stdout",
     "output_type": "stream",
     "text": [
      "Sum of uncommon openings (<20 games):\n",
      "Total games: 519\n",
      "43.93% Wins / 4.05% Draws / 52.02% Losses\n"
     ]
    }
   ],
   "source": [
    "max_games = 20\n",
    "total_wins = 0\n",
    "total_games = 0\n",
    "total_draws = 0\n",
    "total_losses = 0\n",
    "for opening in w_zipped + b_zipped:\n",
    "    if opening[1] < max_games:\n",
    "        total_games += opening[1]\n",
    "        total_wins += opening[2]\n",
    "        total_draws += opening[3]\n",
    "        total_losses += opening[4]\n",
    "        \n",
    "print(f\"Sum of uncommon openings (<{max_games} games):\")\n",
    "print(f\"Total games: {total_games}\")\n",
    "print(f\"{round(total_wins / (total_games) * 100, 2)}% Wins / {round(total_draws / total_games * 100, 2)}% Draws / {round(total_losses / total_games * 100, 2)}% Losses\")\n"
   ]
  },
  {
   "cell_type": "markdown",
   "metadata": {},
   "source": [
    "### 5. By what method do I win most of my games?"
   ]
  },
  {
   "cell_type": "code",
   "execution_count": 35,
   "metadata": {},
   "outputs": [
    {
     "data": {
      "image/png": "[encoded data removed]",
      "text/plain": [
       "<Figure size 432x288 with 1 Axes>"
      ]
     },
     "metadata": {},
     "output_type": "display_data"
    }
   ],
   "source": [
    "x = []\n",
    "for condition in loss_conditions:\n",
    "    x.append(len(df_rapid.query(f\"opponent_result == '{condition}'\")))\n",
    "plt.pie(x=x, labels=loss_conditions)\n",
    "plt.title('How I Win My Games')\n",
    "plt.show()"
   ]
  },
  {
   "cell_type": "markdown",
   "metadata": {},
   "source": [
    "### 6. By what method do I draw most of my games"
   ]
  },
  {
   "cell_type": "code",
   "execution_count": 36,
   "metadata": {},
   "outputs": [
    {
     "data": {
      "image/png": "[encoded data removed]",
      "text/plain": [
       "<Figure size 432x288 with 1 Axes>"
      ]
     },
     "metadata": {},
     "output_type": "display_data"
    }
   ],
   "source": [
    "x = []\n",
    "for condition in draw_conditions:\n",
    "    x.append(len(df_rapid.query(f\"my_result == '{condition}'\")))\n",
    "plt.pie(x=x, labels=draw_conditions)\n",
    "plt.title('How I Draw My Games')\n",
    "plt.show()"
   ]
  },
  {
   "cell_type": "markdown",
   "metadata": {},
   "source": [
    "### 7. By what method do I lose most of my games?"
   ]
  },
  {
   "cell_type": "code",
   "execution_count": 37,
   "metadata": {},
   "outputs": [
    {
     "data": {
      "image/png": "[encoded data removed]",
      "text/plain": [
       "<Figure size 432x288 with 1 Axes>"
      ]
     },
     "metadata": {},
     "output_type": "display_data"
    }
   ],
   "source": [
    "x = []\n",
    "for condition in loss_conditions:\n",
    "    x.append(len(df_rapid.query(f\"my_result == '{condition}'\")))\n",
    "plt.pie(x=x, labels=loss_conditions)\n",
    "plt.title('How I Lose My Games')\n",
    "plt.show()"
   ]
  },
  {
   "cell_type": "markdown",
   "metadata": {},
   "source": [
    "### 8. Where do I spend most of my time?"
   ]
  },
  {
   "cell_type": "code",
   "execution_count": 38,
   "metadata": {},
   "outputs": [],
   "source": [
    "# %H:%M:%S: -> seconds\n",
    "def get_total_seconds(stringHMS):\n",
    "    ms = 0.0\n",
    "    if '.' in stringHMS:\n",
    "        stringHMS, ms = stringHMS.split('.')\n",
    "        ms = round(float(ms) / 10, 1)\n",
    "    timedeltaObj = datetime.strptime(stringHMS.split('.')[0], \"%H:%M:%S\") - datetime(1900,1,1) \n",
    "    return float(timedeltaObj.total_seconds()) + ms"
   ]
  },
  {
   "cell_type": "code",
   "execution_count": 39,
   "metadata": {},
   "outputs": [
    {
     "name": "stderr",
     "output_type": "stream",
     "text": [
      "5252it [00:04, 1124.92it/s]\n"
     ]
    }
   ],
   "source": [
    "times_per_move = {}\n",
    "for _, game in tqdm(df_rapid.iterrows()):\n",
    "    if type(game['moves']) == str:\n",
    "        continue\n",
    "         \n",
    "     # Check if there is a time increment\n",
    "    time_increment = 0 \n",
    "    previous_time = float(game['time_control'].split('+')[0])\n",
    "    if '+' in game['time_control']:\n",
    "        time_increment = int(game['time_control'].split('+')[1])\n",
    "           \n",
    "    for move_no in game['moves'].keys():\n",
    "        try:\n",
    "            # Skip moves that timed out before being completed\n",
    "            if game['moves'][move_no][game['my_color']]['clock'] == None:\n",
    "                continue\n",
    "            current_time = get_total_seconds(game['moves'][move_no][game['my_color']]['clock'])\n",
    "            time_taken = round(previous_time - current_time + time_increment, 1)\n",
    "            if move_no not in times_per_move.keys():\n",
    "                times_per_move[move_no] = []\n",
    "            times_per_move[move_no].append(time_taken)\n",
    "            previous_time = current_time\n",
    "        except:\n",
    "            print('Error with game: ', game['moves'])\n",
    "            continue"
   ]
  },
  {
   "cell_type": "code",
   "execution_count": 41,
   "metadata": {},
   "outputs": [
    {
     "data": {
      "image/png": "[encoded data removed]",
      "text/plain": [
       "<Figure size 432x288 with 1 Axes>"
      ]
     },
     "metadata": {
      "needs_background": "light"
     },
     "output_type": "display_data"
    }
   ],
   "source": [
    "avg_time_per_move = {}\n",
    "x = []\n",
    "y = []\n",
    "for move_no, move_times in times_per_move.items():\n",
    "    avg_move_time = sum(move_times) / len(move_times)\n",
    "    x.append(move_no)\n",
    "    y.append(avg_move_time)\n",
    "plt.bar(x, y)\n",
    "plt.xlabel('Move Number')\n",
    "plt.ylabel('Avg Time Spent (Seconds)')\n",
    "plt.title('Average Time Spent Per Move')\n",
    "plt.xticks(np.arange(1, x[-1], 7))\n",
    "plt.show()  # Some times can be negative when playing with an interval"
   ]
  },
  {
   "cell_type": "markdown",
   "metadata": {},
   "source": [
    "### 9. How many moves do my games last?"
   ]
  },
  {
   "cell_type": "code",
   "execution_count": 42,
   "metadata": {},
   "outputs": [
    {
     "data": {
      "image/png": "[encoded data removed]",
      "text/plain": [
       "<Figure size 432x288 with 1 Axes>"
      ]
     },
     "metadata": {
      "needs_background": "light"
     },
     "output_type": "display_data"
    }
   ],
   "source": [
    "labels = [i+1 for i in range(int(-(-max(df_rapid['ply']) // 2)))]\n",
    "num_games = [0] * len(labels)\n",
    "\n",
    "for ply in df_rapid['ply']:\n",
    "    if math.isnan(ply):\n",
    "        continue\n",
    "    num_games[int(-(-ply//2))-1] += 1\n",
    "plt.bar(labels, num_games)\n",
    "plt.title('Moves per Game')\n",
    "plt.xlabel('Number of Moves')\n",
    "plt.ylabel('Number of Games')\n",
    "plt.show()"
   ]
  },
  {
   "cell_type": "markdown",
   "metadata": {},
   "source": [
    "### 10. Does castling impact my success rate? Show success rate for:\n",
    "    1. No castle\n",
    "    2. Short castle\n",
    "    3. Long castle\n",
    "    4. Castle before (or on) move 10\n",
    "    5. Castle after move 10"
   ]
  },
  {
   "cell_type": "code",
   "execution_count": 43,
   "metadata": {},
   "outputs": [],
   "source": [
    "castle_success_rates = {\n",
    "    'No Castle': {\n",
    "        'wins': 0,\n",
    "        'losses': 0,\n",
    "        'draws': 0,\n",
    "    },\n",
    "    'Castled By Move 10': {\n",
    "        'wins': 0,\n",
    "        'losses': 0,\n",
    "        'draws': 0,\n",
    "    },\n",
    "    'Castled After Move 10': {\n",
    "        'wins': 0,\n",
    "        'losses': 0,\n",
    "        'draws': 0,\n",
    "    },\n",
    "    'Short Castle': {\n",
    "        'wins': 0,\n",
    "        'losses': 0,\n",
    "        'draws': 0,\n",
    "    },\n",
    "    'Long Castle': {\n",
    "        'wins': 0,\n",
    "        'losses': 0,\n",
    "        'draws': 0,\n",
    "    }\n",
    "}\n"
   ]
  },
  {
   "cell_type": "code",
   "execution_count": 44,
   "metadata": {},
   "outputs": [],
   "source": [
    "def check_result(my_result, category):\n",
    "    if my_result in win_conditions:\n",
    "        category['wins'] += 1\n",
    "    elif my_result in draw_conditions:\n",
    "        category['draws'] += 1\n",
    "    elif my_result in loss_conditions:\n",
    "        category['losses'] += 1\n",
    "    return category"
   ]
  },
  {
   "cell_type": "code",
   "execution_count": 45,
   "metadata": {},
   "outputs": [],
   "source": [
    "# gather the total number of wins, draws, and losses for each castling option\n",
    "for index, game in df_rapid.iterrows():\n",
    "    if type(game['moves']) == str:\n",
    "        continue\n",
    "    \n",
    "    castled = False\n",
    "    short_long_castle = None\n",
    "    castled_move = -1\n",
    "    \n",
    "    # Check which category each game falls into\n",
    "    for move_no in game['moves'].keys():\n",
    "        if game['moves'][move_no][game['my_color']]['move'] == None:\n",
    "            continue\n",
    "        if 'O' in game['moves'][move_no][game['my_color']]['move']:\n",
    "            castled = True\n",
    "            castled_move = move_no\n",
    "            if 'O-O-O' in game['moves'][move_no][game['my_color']]['move']:\n",
    "                short_long_castle = 'long'\n",
    "            elif 'O-O' in game['moves'][move_no][game['my_color']]['move']:\n",
    "                short_long_castle = 'short'\n",
    "            break\n",
    "    \n",
    "    # Not castled data\n",
    "    if not castled:\n",
    "        castle_success_rates['No Castle'] = check_result(game['my_result'], castle_success_rates['No Castle'])\n",
    "    \n",
    "    else:\n",
    "        # Pre 10 data\n",
    "        if castled_move > 0 and castled_move <= 10:\n",
    "            castle_success_rates['Castled By Move 10'] = check_result(game['my_result'], castle_success_rates['Castled By Move 10'])\n",
    "        \n",
    "        # Post 10 data\n",
    "        elif castled_move > 10:\n",
    "            castle_success_rates['Castled After Move 10'] = check_result(game['my_result'], castle_success_rates['Castled After Move 10'])\n",
    "                \n",
    "        # Short castle data\n",
    "        if short_long_castle == 'short':\n",
    "            castle_success_rates['Short Castle'] = check_result(game['my_result'], castle_success_rates['Short Castle'])\n",
    "                \n",
    "        # Long castle data\n",
    "        elif short_long_castle == 'long':\n",
    "            castle_success_rates['Long Castle'] = check_result(game['my_result'], castle_success_rates['Long Castle'])\n"
   ]
  },
  {
   "cell_type": "code",
   "execution_count": 46,
   "metadata": {},
   "outputs": [],
   "source": [
    "# Turn wins from totals to percentages\n",
    "for line in castle_success_rates.keys():\n",
    "    total_games = castle_success_rates[line]['wins'] + castle_success_rates[line]['draws'] + castle_success_rates[line]['losses']\n",
    "    castle_success_rates[line]['wins'] = castle_success_rates[line]['wins'] / total_games\n",
    "    castle_success_rates[line]['losses'] = castle_success_rates[line]['losses'] / total_games\n",
    "    castle_success_rates[line]['draws'] = castle_success_rates[line]['draws'] / total_games\n"
   ]
  },
  {
   "cell_type": "code",
   "execution_count": 47,
   "metadata": {},
   "outputs": [
    {
     "data": {
      "image/png": "[encoded data removed]",
      "text/plain": [
       "<Figure size 432x288 with 1 Axes>"
      ]
     },
     "metadata": {
      "needs_background": "light"
     },
     "output_type": "display_data"
    }
   ],
   "source": [
    "pd.DataFrame(castle_success_rates).transpose().plot(kind=\"bar\", color=['g', 'r', 'gray'], stacked=False)\n",
    "ax = plt.subplot(111)\n",
    "ax.legend(loc='center left', bbox_to_anchor=(1, 0.5))\n",
    "plt.show()"
   ]
  },
  {
   "cell_type": "markdown",
   "metadata": {},
   "source": [
    "## Conclusions"
   ]
  },
  {
   "cell_type": "markdown",
   "metadata": {},
   "source": [
    "From analysing my past games, I learned that my blitz rating frequently fluctuates by over 100 points, but tends to increase in the long run.  This is likely due to a combination of matchmaking luck, and variance in my focus when playing. I can see that my skill level has increased by ~800 elo in the past couple years, but I have been struggling for the past 6 months to break 1650.  I mostly learn by reviewing my games immediately after playing them to see what I did well and where I messed up.  I do not spend much time looking at opening theory, and I only do puzzles a couple times a month.  Chess masters use these tactics daily to study, so I should try to incorperate them more often.\n",
    "\n",
    "When playing as white I always open with 1. d4, and my opponents most common response is d5. My favorite opening is the Queen's Gambit, which happens when I respond with 2. c4.  I play this opening significantly more often than every other one, with 4 of my top 10 openings being variations of this line. These lines are: \n",
    "    1. Queen's Gambit Declined\n",
    "    2. Queen's Gambit Accepted\n",
    "    3. Queen's Gambit Declined Slav\n",
    "    4. Queen's Gambit Declined, Albin Counter Gambit\n",
    "    \n",
    "My performance in the Queens Gambit Accepted and the Queens Gambit Declined are exactly the same, with (54% W / 4% D / 42% L).  I perform even better against the Slav variation, with (58% W / 3% D/ 39% L), but against the Albin Counter Gambit I have neutral results with (49% W / 1% D / 49% L). For opponents rated above 1500 my results for the first three are about the same, but against the albin counter gambit I lose about 80% of the time.  This is a very bad result considering it is one of my most played openings, so I need to learn this opening asap.  I also have similar results against the Old Benouli and Budapest Gambit openings, so I should stop playing those.\n",
    "\n",
    "When I play 1. d4 and my opponent does not respond with c5, my results are (51% W / 4% D / 45% L).  This is still good, but not nearly as strong for me as the Queens Gambit is. This makes sense because I have never studied any of these openings in depth, and I have less practice with them in real games.  This would be a good area to study since this makes up roughly 1/3 of my games as white above 1500 rating.\n",
    "\n",
    "My most played opening as black has been the Sicilian Defense with a success rate of (49% W / 4% D / 47% L).  Interestingly I have a losing ratio when I play the Queens Pawn opening with the black pieces, despite this being my mosy played opening as white.  Studyinig counters to the queens gambit from blacks perspective would improve my success rate as black, and would likely improve my understanding of the position as white.\n",
    "\n",
    "When playing black against opponents >1500, my success rate for msot openings is negative or neutral.  The only openings I win with more often than I lose are the Kings Pawn, Vienna, and Giuoco openings.  I have never studied any of these openings yet I still win with them, so a bit of theory could go a long way for these lines.\n",
    "\n",
    "When looking at how most of my games end, I win most by checkmate, resignation, or abandonment.  7% of the time I win on time. When I lose, it is only on time about 3% of the time, with the rest being checkmate, resignation, or abandonment.  This may suggest that I dont spend enough time thinking during the mid game, since I rarely run out of time.\n",
    "\n",
    "To further explore this, I looked at how long I spend on each of my moves.  Most of my games end around move 30, and the average time I spend on moves increases up until a maximum of 13 seconds on move 18.  This means I still have around 4 minutes left when I lose, so I should spend more time in themid game.  Although this is where I already spend a majority of my time, it is the most complicated and important part of the game, so I should shew my time towards this portion even more heavily.\n",
    "\n",
    "Finally, I learned that when I castle I am much more likely to win.  Castling before move 10 is one of the golden rules of chess, but i frequently ignore this in favor of early attacks.  Based on my results, this is a bad idea.  When I dont castle at all I lose more often than I win, but if I castle short or long at any point in the game I am more likely to win than lose.  The sooner I castle, the more likely I am to win.  Short castling has also proved to be much more effective than long castling.  It seems this is a fundamental rule of chess for a reason, so I should make sure I castle (prefferably short) before move 10 in every game I play."
   ]
  }
 ],
 "metadata": {
  "kernelspec": {
   "display_name": "Python 3 (ipykernel)",
   "language": "python",
   "name": "python3"
  },
  "language_info": {
   "codemirror_mode": {
    "name": "ipython",
    "version": 3
   },
   "file_extension": ".py",
   "mimetype": "text/x-python",
   "name": "python",
   "nbconvert_exporter": "python",
   "pygments_lexer": "ipython3",
   "version": "3.9.13"
  }
 },
 "nbformat": 4,
 "nbformat_minor": 4
}
